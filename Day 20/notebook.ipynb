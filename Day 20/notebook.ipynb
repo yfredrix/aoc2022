{
 "cells": [
  {
   "cell_type": "code",
   "execution_count": 1,
   "metadata": {},
   "outputs": [],
   "source": [
    "with open(\"input.txt\") as file:\n",
    "    cryptodata = file.read().split(\"\\n\")"
   ]
  },
  {
   "cell_type": "code",
   "execution_count": 15,
   "metadata": {},
   "outputs": [],
   "source": [
    "cryptodata = \"\"\"1\n",
    "2\n",
    "-3\n",
    "3\n",
    "-2\n",
    "0\n",
    "4\"\"\".split(\"\\n\")"
   ]
  },
  {
   "cell_type": "code",
   "execution_count": 2,
   "metadata": {},
   "outputs": [],
   "source": [
    "cryptodata = [int(i) for i in cryptodata]"
   ]
  },
  {
   "cell_type": "code",
   "execution_count": 3,
   "metadata": {},
   "outputs": [],
   "source": [
    "max_length = len(cryptodata)\n",
    "decrypt = [(i,data) for i, data in enumerate(cryptodata)]\n",
    "for i, data in enumerate(cryptodata):\n",
    "    current_index = decrypt.index((i,data))\n",
    "    decrypt.remove((i,data))\n",
    "    if data >=0:\n",
    "        rounds, rest = divmod(current_index+data, max_length)\n",
    "        decrypt.insert(rest+rounds, (i,data))\n",
    "    else:\n",
    "        rounds, rest = divmod(current_index+data, max_length)\n",
    "        if rest + rounds == 0:\n",
    "            decrypt.insert(max_length, (i,data))\n",
    "        else:\n",
    "            decrypt.insert(rest+rounds, (i,data))"
   ]
  },
  {
   "cell_type": "code",
   "execution_count": 4,
   "metadata": {},
   "outputs": [],
   "source": [
    "decrypt_translated = [data[1] for data in decrypt]"
   ]
  },
  {
   "cell_type": "code",
   "execution_count": 5,
   "metadata": {},
   "outputs": [
    {
     "data": {
      "text/plain": [
       "27726"
      ]
     },
     "execution_count": 5,
     "metadata": {},
     "output_type": "execute_result"
    }
   ],
   "source": [
    "sum([decrypt_translated[(decrypt_translated.index(0)+i)%max_length] for i in [1000,2000,3000]])\n",
    "# should be larger then 10929 and not 23542"
   ]
  },
  {
   "cell_type": "code",
   "execution_count": null,
   "metadata": {},
   "outputs": [],
   "source": []
  },
  {
   "attachments": {},
   "cell_type": "markdown",
   "metadata": {},
   "source": [
    "## Part 2"
   ]
  },
  {
   "cell_type": "code",
   "execution_count": 16,
   "metadata": {},
   "outputs": [
    {
     "name": "stdout",
     "output_type": "stream",
     "text": [
      "[811589153, 1623178306, -2434767459, 2434767459, -1623178306, 0, 3246356612]\n",
      "[4, 1, 2, 5, 6, 0, 2]\n",
      "[-1623178306, -2434767459, 0, 811589153, 1623178306, 2434767459, 3246356612]\n",
      "[6, 2, 0, 4, 1, 5, 2]\n",
      "[-1623178306, -2434767459, 0, 811589153, 1623178306, 2434767459, 3246356612]\n",
      "[6, 2, 0, 4, 1, 5, 2]\n",
      "[-1623178306, -2434767459, 0, 811589153, 1623178306, 2434767459, 3246356612]\n",
      "[6, 2, 0, 4, 1, 5, 2]\n",
      "[-1623178306, -2434767459, 0, 811589153, 1623178306, 2434767459, 3246356612]\n",
      "[6, 2, 0, 4, 1, 5, 2]\n",
      "[-1623178306, -2434767459, 0, 811589153, 1623178306, 2434767459, 3246356612]\n",
      "[6, 2, 0, 4, 1, 5, 2]\n",
      "[-1623178306, -2434767459, 0, 811589153, 1623178306, 2434767459, 3246356612]\n",
      "[6, 2, 0, 4, 1, 5, 2]\n",
      "[-1623178306, -2434767459, 0, 811589153, 1623178306, 2434767459, 3246356612]\n",
      "[6, 2, 0, 4, 1, 5, 2]\n",
      "[-1623178306, -2434767459, 0, 811589153, 1623178306, 2434767459, 3246356612]\n",
      "[6, 2, 0, 4, 1, 5, 2]\n",
      "[-1623178306, -2434767459, 0, 811589153, 1623178306, 2434767459, 3246356612]\n",
      "[6, 2, 0, 4, 1, 5, 2]\n"
     ]
    },
    {
     "data": {
      "text/plain": [
       "-811589153"
      ]
     },
     "execution_count": 16,
     "metadata": {},
     "output_type": "execute_result"
    }
   ],
   "source": [
    "scaleddata = [811589153 * int(i) for i in cryptodata]\n",
    "max_length = len(scaleddata)\n",
    "decrypt = [(i,data) for i, data in enumerate(scaleddata)]\n",
    "for _ in range(10):\n",
    "    print([data[1] for data in decrypt])\n",
    "    print([data[1]%max_length for data in decrypt])\n",
    "    for i, data in enumerate(scaleddata):\n",
    "        current_index = decrypt.index((i,data))\n",
    "        decrypt.remove((i,data))\n",
    "        if data >=0:\n",
    "            rounds, rest = divmod(current_index+data, max_length)\n",
    "            decrypt.insert(rest+rounds, (i,data))\n",
    "        else:\n",
    "            rounds, rest = divmod(current_index+data, max_length)\n",
    "            if rest + rounds == 0:\n",
    "                decrypt.insert(max_length, (i,data))\n",
    "            else:\n",
    "                decrypt.insert(rest+rounds, (i,data))\n",
    "decrypt_translated = [data[1] for data in decrypt]\n",
    "sum([decrypt_translated[(decrypt_translated.index(0)+i)%max_length] for i in [1000,2000,3000]])\n",
    "# should be larger then 1007993728026"
   ]
  },
  {
   "cell_type": "code",
   "execution_count": null,
   "metadata": {},
   "outputs": [],
   "source": []
  }
 ],
 "metadata": {
  "kernelspec": {
   "display_name": ".venv",
   "language": "python",
   "name": "python3"
  },
  "language_info": {
   "codemirror_mode": {
    "name": "ipython",
    "version": 3
   },
   "file_extension": ".py",
   "mimetype": "text/x-python",
   "name": "python",
   "nbconvert_exporter": "python",
   "pygments_lexer": "ipython3",
   "version": "3.10.9"
  },
  "orig_nbformat": 4,
  "vscode": {
   "interpreter": {
    "hash": "3cbafc3e6ec49d7f1b844a015ff2ccb4f1535378fea15f3dafaf305ac2d5214f"
   }
  }
 },
 "nbformat": 4,
 "nbformat_minor": 2
}
