{
 "cells": [
  {
   "cell_type": "code",
   "execution_count": 103,
   "metadata": {},
   "outputs": [],
   "source": [
    "with open(\"input.txt\") as file:\n",
    "    cryptodata = file.read().split(\"\\n\")"
   ]
  },
  {
   "cell_type": "code",
   "execution_count": 91,
   "metadata": {},
   "outputs": [],
   "source": [
    "cryptodata = \"\"\"1\n",
    "2\n",
    "-3\n",
    "3\n",
    "-2\n",
    "0\n",
    "4\"\"\".split(\"\\n\")"
   ]
  },
  {
   "cell_type": "code",
   "execution_count": 104,
   "metadata": {},
   "outputs": [],
   "source": [
    "cryptodata = [int(i) for i in cryptodata]"
   ]
  },
  {
   "cell_type": "code",
   "execution_count": 105,
   "metadata": {},
   "outputs": [],
   "source": [
    "max_length = len(cryptodata)\n",
    "decrypt = [(i,data) for i, data in enumerate(cryptodata)]\n",
    "for i, data in enumerate(cryptodata):\n",
    "    current_index = decrypt.index((i,data))\n",
    "    decrypt.remove((i,data))\n",
    "    if data >=0:\n",
    "        rounds, rest = divmod(current_index+data, max_length)\n",
    "        decrypt.insert(rest+rounds, (i,data))\n",
    "    else:\n",
    "        rounds, rest = divmod(current_index+data, max_length)\n",
    "        if rest + rounds == 0:\n",
    "            decrypt.insert(max_length, (i,data))\n",
    "        else:\n",
    "            decrypt.insert(rest+rounds, (i,data))"
   ]
  },
  {
   "cell_type": "code",
   "execution_count": 106,
   "metadata": {},
   "outputs": [],
   "source": [
    "decrypt_translated = [data[1] for data in decrypt]"
   ]
  },
  {
   "cell_type": "code",
   "execution_count": 107,
   "metadata": {},
   "outputs": [
    {
     "data": {
      "text/plain": [
       "27726"
      ]
     },
     "execution_count": 107,
     "metadata": {},
     "output_type": "execute_result"
    }
   ],
   "source": [
    "sum([decrypt_translated[(decrypt_translated.index(0)+i)%max_length] for i in [1000,2000,3000]])\n",
    "# should be larger then 10929 and not 23542"
   ]
  },
  {
   "cell_type": "code",
   "execution_count": 102,
   "metadata": {},
   "outputs": [
    {
     "data": {
      "text/plain": [
       "[1, 2, -3, 4, 0, 3, -2]"
      ]
     },
     "execution_count": 102,
     "metadata": {},
     "output_type": "execute_result"
    }
   ],
   "source": [
    "decrypt_translated"
   ]
  },
  {
   "cell_type": "code",
   "execution_count": null,
   "metadata": {},
   "outputs": [],
   "source": []
  },
  {
   "attachments": {},
   "cell_type": "markdown",
   "metadata": {},
   "source": [
    "## Part 2"
   ]
  },
  {
   "cell_type": "code",
   "execution_count": null,
   "metadata": {},
   "outputs": [],
   "source": [
    "cryptodata = [int(i) for i in cryptodata]\n",
    "max_length = len(cryptodata)\n",
    "decrypt = [(i,data) for i, data in enumerate(cryptodata)]\n",
    "for i, data in enumerate(cryptodata):\n",
    "    current_index = decrypt.index((i,data))\n",
    "    decrypt.remove((i,data))\n",
    "    if data >=0:\n",
    "        rounds, rest = divmod(current_index+data, max_length)\n",
    "        decrypt.insert(rest+rounds, (i,data))\n",
    "    else:\n",
    "        rounds, rest = divmod(current_index+data, max_length)\n",
    "        if rest + rounds == 0:\n",
    "            decrypt.insert(max_length, (i,data))\n",
    "        else:\n",
    "            decrypt.insert(rest+rounds, (i,data))\n",
    "decrypt_translated = [data[1] for data in decrypt]\n",
    "sum([decrypt_translated[(decrypt_translated.index(0)+i)%max_length] for i in [1000,2000,3000]])\n",
    "# should be larger then 10929 and not 23542"
   ]
  }
 ],
 "metadata": {
  "kernelspec": {
   "display_name": ".venv",
   "language": "python",
   "name": "python3"
  },
  "language_info": {
   "codemirror_mode": {
    "name": "ipython",
    "version": 3
   },
   "file_extension": ".py",
   "mimetype": "text/x-python",
   "name": "python",
   "nbconvert_exporter": "python",
   "pygments_lexer": "ipython3",
   "version": "3.10.9"
  },
  "orig_nbformat": 4,
  "vscode": {
   "interpreter": {
    "hash": "3cbafc3e6ec49d7f1b844a015ff2ccb4f1535378fea15f3dafaf305ac2d5214f"
   }
  }
 },
 "nbformat": 4,
 "nbformat_minor": 2
}
