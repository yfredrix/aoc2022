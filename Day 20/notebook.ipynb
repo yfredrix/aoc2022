{
 "cells": [
  {
   "cell_type": "code",
   "execution_count": 56,
   "metadata": {},
   "outputs": [],
   "source": [
    "from typing import Tuple, List, Deque"
   ]
  },
  {
   "cell_type": "code",
   "execution_count": 69,
   "metadata": {},
   "outputs": [],
   "source": [
    "with open(\"input.txt\") as file:\n",
    "    cryptodata = file.read().split(\"\\n\")"
   ]
  },
  {
   "cell_type": "code",
   "execution_count": 17,
   "metadata": {},
   "outputs": [],
   "source": [
    "cryptodata = \"\"\"1\n",
    "2\n",
    "-3\n",
    "3\n",
    "-2\n",
    "0\n",
    "4\"\"\".split(\"\\n\")"
   ]
  },
  {
   "cell_type": "code",
   "execution_count": 70,
   "metadata": {},
   "outputs": [],
   "source": [
    "cryptodata = [int(i) for i in cryptodata]"
   ]
  },
  {
   "cell_type": "code",
   "execution_count": 65,
   "metadata": {},
   "outputs": [
    {
     "name": "stdout",
     "output_type": "stream",
     "text": [
      "[1, 2, -3, 3, -2, 0, 4]\n",
      "[2, 1, -3, 3, -2, 0, 4]\n",
      "[1, -3, 2, 3, -2, 0, 4]\n",
      "[1, 2, 3, -2, -3, 0, 4]\n",
      "[1, 2, -2, -3, 0, 3, 4]\n",
      "[1, 2, -3, 0, 3, 4, -2]\n",
      "[1, 2, -3, 0, 3, 4, -2]\n",
      "[1, 2, -3, 4, 0, 3, -2]\n"
     ]
    }
   ],
   "source": [
    "max_length = len(cryptodata)\n",
    "decrypt = [(i,data) for i, data in enumerate(cryptodata)]\n",
    "for i, data in enumerate(cryptodata):\n",
    "    print([data[1] for data in decrypt])\n",
    "    current_index = decrypt.index((i,data))\n",
    "    decrypt.remove((i,data))\n",
    "    if data >=0:\n",
    "        rounds, rest = divmod(current_index+data, max_length)\n",
    "        decrypt.insert(rest+rounds, (i,data))\n",
    "    else:\n",
    "        rounds, rest = divmod(current_index+data, max_length)\n",
    "        if rest + rounds == 0:\n",
    "            decrypt.insert(max_length, (i,data))\n",
    "        else:\n",
    "            decrypt.insert(rest+rounds, (i,data))\n",
    "print([data[1] for data in decrypt])"
   ]
  },
  {
   "cell_type": "code",
   "execution_count": 66,
   "metadata": {},
   "outputs": [
    {
     "name": "stdout",
     "output_type": "stream",
     "text": [
      "[1, 2, -3, 3, -2, 0, 4]\n",
      "[1, -3, 3, -2, 0, 4, 2]\n",
      "[3, -2, 0, 4, 1, -3, 2]\n",
      "[4, 1, 2, 3, -2, -3, 0]\n",
      "[-2, -3, 0, 3, 4, 1, 2]\n",
      "[-2, 1, 2, -3, 0, 3, 4]\n",
      "[-2, 1, 2, -3, 0, 3, 4]\n",
      "[0, 3, -2, 1, 2, -3, 4]\n"
     ]
    }
   ],
   "source": [
    "max_length = len(cryptodata)\n",
    "decrypt = deque([(i,data) for i, data in enumerate(cryptodata)])\n",
    "for i, data in enumerate(cryptodata):\n",
    "    print([data[1] for data in decrypt])\n",
    "    decrypt = mix_items((i,data), decrypt)\n",
    "print([data[1] for data in decrypt])"
   ]
  },
  {
   "cell_type": "code",
   "execution_count": 21,
   "metadata": {},
   "outputs": [],
   "source": [
    "decrypt_translated = [data[1] for data in decrypt]"
   ]
  },
  {
   "cell_type": "code",
   "execution_count": 22,
   "metadata": {},
   "outputs": [
    {
     "data": {
      "text/plain": [
       "3"
      ]
     },
     "execution_count": 22,
     "metadata": {},
     "output_type": "execute_result"
    }
   ],
   "source": [
    "sum([decrypt_translated[(decrypt_translated.index(0)+i)%max_length] for i in [1000,2000,3000]])\n",
    "# should be larger then 10929 and not 23542"
   ]
  },
  {
   "cell_type": "code",
   "execution_count": 63,
   "metadata": {},
   "outputs": [],
   "source": [
    "def mix_items(\n",
    "    item_to_mix: Tuple[int, int], list_to_mix: Deque[Tuple[int, int]]\n",
    ") -> List[Tuple[int, int]]:\n",
    "    max_length = len(list_to_mix)\n",
    "    current_index = list_to_mix.index(item_to_mix)\n",
    "    list_to_mix.remove(item_to_mix)\n",
    "    list_to_mix.rotate(-item_to_mix[1])\n",
    "    list_to_mix.insert(current_index, item_to_mix)\n",
    "    return list_to_mix\n"
   ]
  },
  {
   "cell_type": "code",
   "execution_count": 62,
   "metadata": {},
   "outputs": [
    {
     "ename": "AssertionError",
     "evalue": "",
     "output_type": "error",
     "traceback": [
      "\u001b[1;31m---------------------------------------------------------------------------\u001b[0m",
      "\u001b[1;31mAssertionError\u001b[0m                            Traceback (most recent call last)",
      "Cell \u001b[1;32mIn[62], line 1\u001b[0m\n\u001b[1;32m----> 1\u001b[0m \u001b[39massert\u001b[39;00m mix_items(\n\u001b[0;32m      2\u001b[0m     (\u001b[39m0\u001b[39m, \u001b[39m1\u001b[39m), deque([(\u001b[39m0\u001b[39m, \u001b[39m1\u001b[39m), (\u001b[39m1\u001b[39m, \u001b[39m2\u001b[39m), (\u001b[39m2\u001b[39m, \u001b[39m-\u001b[39m\u001b[39m3\u001b[39m), (\u001b[39m3\u001b[39m, \u001b[39m3\u001b[39m), (\u001b[39m4\u001b[39m, \u001b[39m-\u001b[39m\u001b[39m2\u001b[39m), (\u001b[39m5\u001b[39m, \u001b[39m0\u001b[39m), (\u001b[39m6\u001b[39m, \u001b[39m4\u001b[39m)])\n\u001b[0;32m      3\u001b[0m ) \u001b[39m==\u001b[39m deque([(\u001b[39m1\u001b[39m, \u001b[39m2\u001b[39m), (\u001b[39m0\u001b[39m, \u001b[39m1\u001b[39m), (\u001b[39m2\u001b[39m, \u001b[39m-\u001b[39m\u001b[39m3\u001b[39m), (\u001b[39m3\u001b[39m, \u001b[39m3\u001b[39m), (\u001b[39m4\u001b[39m, \u001b[39m-\u001b[39m\u001b[39m2\u001b[39m), (\u001b[39m5\u001b[39m, \u001b[39m0\u001b[39m), (\u001b[39m6\u001b[39m, \u001b[39m4\u001b[39m)])\n\u001b[0;32m      5\u001b[0m \u001b[39massert\u001b[39;00m mix_items(\n\u001b[0;32m      6\u001b[0m     (\u001b[39m1\u001b[39m, \u001b[39m2\u001b[39m), [(\u001b[39m1\u001b[39m, \u001b[39m2\u001b[39m), (\u001b[39m0\u001b[39m, \u001b[39m1\u001b[39m), (\u001b[39m2\u001b[39m, \u001b[39m-\u001b[39m\u001b[39m3\u001b[39m), (\u001b[39m3\u001b[39m, \u001b[39m3\u001b[39m), (\u001b[39m4\u001b[39m, \u001b[39m-\u001b[39m\u001b[39m2\u001b[39m), (\u001b[39m5\u001b[39m, \u001b[39m0\u001b[39m), (\u001b[39m6\u001b[39m, \u001b[39m4\u001b[39m)]\n\u001b[0;32m      7\u001b[0m ) \u001b[39m==\u001b[39m [(\u001b[39m0\u001b[39m, \u001b[39m1\u001b[39m), (\u001b[39m2\u001b[39m, \u001b[39m-\u001b[39m\u001b[39m3\u001b[39m), (\u001b[39m1\u001b[39m, \u001b[39m2\u001b[39m), (\u001b[39m3\u001b[39m, \u001b[39m3\u001b[39m), (\u001b[39m4\u001b[39m, \u001b[39m-\u001b[39m\u001b[39m2\u001b[39m), (\u001b[39m5\u001b[39m, \u001b[39m0\u001b[39m), (\u001b[39m6\u001b[39m, \u001b[39m4\u001b[39m)]\n\u001b[0;32m      9\u001b[0m \u001b[39massert\u001b[39;00m mix_items(\n\u001b[0;32m     10\u001b[0m     (\u001b[39m2\u001b[39m, \u001b[39m-\u001b[39m\u001b[39m3\u001b[39m), [(\u001b[39m0\u001b[39m, \u001b[39m1\u001b[39m), (\u001b[39m2\u001b[39m, \u001b[39m-\u001b[39m\u001b[39m3\u001b[39m), (\u001b[39m1\u001b[39m, \u001b[39m2\u001b[39m), (\u001b[39m3\u001b[39m, \u001b[39m3\u001b[39m), (\u001b[39m4\u001b[39m, \u001b[39m-\u001b[39m\u001b[39m2\u001b[39m), (\u001b[39m5\u001b[39m, \u001b[39m0\u001b[39m), (\u001b[39m6\u001b[39m, \u001b[39m4\u001b[39m)]\n\u001b[0;32m     11\u001b[0m ) \u001b[39m==\u001b[39m [(\u001b[39m0\u001b[39m, \u001b[39m1\u001b[39m), (\u001b[39m1\u001b[39m, \u001b[39m2\u001b[39m), (\u001b[39m3\u001b[39m, \u001b[39m3\u001b[39m), (\u001b[39m4\u001b[39m, \u001b[39m-\u001b[39m\u001b[39m2\u001b[39m), (\u001b[39m2\u001b[39m, \u001b[39m-\u001b[39m\u001b[39m3\u001b[39m), (\u001b[39m5\u001b[39m, \u001b[39m0\u001b[39m), (\u001b[39m6\u001b[39m, \u001b[39m4\u001b[39m)]\n",
      "\u001b[1;31mAssertionError\u001b[0m: "
     ]
    }
   ],
   "source": [
    "assert mix_items(\n",
    "    (0, 1), deque([(0, 1), (1, 2), (2, -3), (3, 3), (4, -2), (5, 0), (6, 4)])\n",
    ") == deque([(1, 2), (0, 1), (2, -3), (3, 3), (4, -2), (5, 0), (6, 4)])\n",
    "\n",
    "assert mix_items(\n",
    "    (1, 2), [(1, 2), (0, 1), (2, -3), (3, 3), (4, -2), (5, 0), (6, 4)]\n",
    ") == [(0, 1), (2, -3), (1, 2), (3, 3), (4, -2), (5, 0), (6, 4)]\n",
    "\n",
    "assert mix_items(\n",
    "    (2, -3), [(0, 1), (2, -3), (1, 2), (3, 3), (4, -2), (5, 0), (6, 4)]\n",
    ") == [(0, 1), (1, 2), (3, 3), (4, -2), (2, -3), (5, 0), (6, 4)]\n",
    "\n",
    "assert mix_items(\n",
    "    (3, 3), [(0, 1), (1, 2), (3, 3), (4, -2), (2, -3), (5, 0), (6, 4)]\n",
    ") == [(0, 1), (1, 2), (4, -2), (2, -3), (5, 0), (3, 3), (6, 4)]\n",
    "\n",
    "assert mix_items(\n",
    "    (4, -2), [(0, 1), (1, 2), (4, -2), (2, -3), (5, 0), (3, 3), (6, 4)]\n",
    ") == [(0, 1), (1, 2), (2, -3), (5, 0), (3, 3), (6, 4), (4, -2)]\n",
    "\n",
    "assert mix_items(\n",
    "    (5, 0), [(0, 1), (1, 2), (2, -3), (5, 0), (3, 3), (6, 4), (4, -2)]\n",
    ") == [(0, 1), (1, 2), (2, -3), (5, 0), (3, 3), (6, 4), (4, -2)]\n",
    "\n",
    "assert mix_items(\n",
    "    (6, 4), [(0, 1), (1, 2), (2, -3), (5, 0), (3, 3), (6, 4), (4, -2)]\n",
    ") == [(0, 1), (1, 2), (2, -3), (6, 4), (5, 0), (3, 3), (4, -2)]\n",
    "\n",
    "assert mix_items(\n",
    "    (5, 0), [(5, 0), (0, 1), (1, 2), (2, -3), (3, 3), (6, 4), (4, -2)]\n",
    ") == [(5, 0), (0, 1), (1, 2), (2, -3), (3, 3), (6, 4), (4, -2)]\n",
    "\n",
    "assert mix_items((2, 12), [(0, 3), (1, 5), (2, 12), (4, 6)]) == [\n",
    "    (0, 3),\n",
    "    (1, 5),\n",
    "    (2, 12),\n",
    "    (4, 6),\n",
    "]\n",
    "\n",
    "assert mix_items((0, -9), [(0, -9), (1, 5), (2, 12), (4, 6)]) == [\n",
    "    (1, 5),\n",
    "    (2, 12),\n",
    "    (4, 6),\n",
    "    (0, -9),\n",
    "]\n",
    "\n",
    "assert mix_items((0, -36), [(0, -36), (1, 5), (2, 12), (4, 6)]) == [\n",
    "    (1, 5),\n",
    "    (2, 12),\n",
    "    (4, 6),\n",
    "    (0, -36),\n",
    "]\n"
   ]
  },
  {
   "attachments": {},
   "cell_type": "markdown",
   "metadata": {},
   "source": [
    "## Part 2"
   ]
  },
  {
   "cell_type": "code",
   "execution_count": 67,
   "metadata": {},
   "outputs": [],
   "source": [
    "from collections import deque"
   ]
  },
  {
   "cell_type": "code",
   "execution_count": 72,
   "metadata": {},
   "outputs": [
    {
     "data": {
      "text/plain": [
       "4275451658004"
      ]
     },
     "execution_count": 72,
     "metadata": {},
     "output_type": "execute_result"
    }
   ],
   "source": [
    "scaleddata = [811589153 * int(i) for i in cryptodata]\n",
    "max_length = len(scaleddata)\n",
    "decrypt = deque([(i,data) for i, data in enumerate(scaleddata)])\n",
    "for mix in range(10):\n",
    "    for i, data in enumerate(scaleddata):\n",
    "        decrypt = mix_items((i,data), decrypt)\n",
    "decrypt_translated = [data[1] for data in decrypt]\n",
    "\n",
    "sum([decrypt_translated[(decrypt_translated.index(0)+i)%max_length] for i in [1000,2000,3000]])\n",
    "# should be larger then 1007993728026"
   ]
  },
  {
   "cell_type": "code",
   "execution_count": 73,
   "metadata": {},
   "outputs": [
    {
     "data": {
      "text/plain": [
       "True"
      ]
     },
     "execution_count": 73,
     "metadata": {},
     "output_type": "execute_result"
    }
   ],
   "source": [
    "1007993728026<4275451658004"
   ]
  },
  {
   "cell_type": "code",
   "execution_count": null,
   "metadata": {},
   "outputs": [],
   "source": []
  }
 ],
 "metadata": {
  "kernelspec": {
   "display_name": ".venv",
   "language": "python",
   "name": "python3"
  },
  "language_info": {
   "codemirror_mode": {
    "name": "ipython",
    "version": 3
   },
   "file_extension": ".py",
   "mimetype": "text/x-python",
   "name": "python",
   "nbconvert_exporter": "python",
   "pygments_lexer": "ipython3",
   "version": "3.10.9"
  },
  "orig_nbformat": 4,
  "vscode": {
   "interpreter": {
    "hash": "3cbafc3e6ec49d7f1b844a015ff2ccb4f1535378fea15f3dafaf305ac2d5214f"
   }
  }
 },
 "nbformat": 4,
 "nbformat_minor": 2
}
