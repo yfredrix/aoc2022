{
 "cells": [
  {
   "cell_type": "code",
   "execution_count": 4,
   "metadata": {},
   "outputs": [],
   "source": [
    "def open_data_file(path):\n",
    "    with open(path) as file:\n",
    "        rawinput = file.read().splitlines()\n",
    "    return rawinput"
   ]
  },
  {
   "cell_type": "code",
   "execution_count": 5,
   "metadata": {},
   "outputs": [],
   "source": [
    "raw_data = open_data_file(\"input.txt\")"
   ]
  },
  {
   "cell_type": "code",
   "execution_count": 6,
   "metadata": {},
   "outputs": [],
   "source": [
    "elve_tasks = [elve_pair.split(',') for elve_pair in raw_data]"
   ]
  },
  {
   "cell_type": "code",
   "execution_count": 17,
   "metadata": {},
   "outputs": [],
   "source": [
    "elve_work_sets = []\n",
    "for elve_pair in elve_tasks:\n",
    "    work_areas = []\n",
    "    for elve_task in elve_pair:\n",
    "        elve_items = elve_task.split(\"-\")\n",
    "        start_area = int(elve_items[0])\n",
    "        end_area = int(elve_items[1])\n",
    "        work_area = set(range(start_area, end_area+1))\n",
    "        work_areas.append(work_area)\n",
    "    elve_work_sets.append(work_areas)    "
   ]
  },
  {
   "cell_type": "code",
   "execution_count": 24,
   "metadata": {},
   "outputs": [],
   "source": [
    "def determine_overlap(elve_pair):\n",
    "    first_elve = elve_pair[0]\n",
    "    second_elve = elve_pair[1]\n",
    "    unified_work = first_elve.union(second_elve)\n",
    "    total_areas = len(unified_work)\n",
    "    areas_first = len(first_elve)\n",
    "    areas_second = len(second_elve)\n",
    "    if total_areas == areas_first or total_areas == areas_second:\n",
    "        return 1\n",
    "    else:\n",
    "        return 0"
   ]
  },
  {
   "cell_type": "code",
   "execution_count": 25,
   "metadata": {},
   "outputs": [
    {
     "data": {
      "text/plain": [
       "562"
      ]
     },
     "execution_count": 25,
     "metadata": {},
     "output_type": "execute_result"
    }
   ],
   "source": [
    "sum([determine_overlap(elve_pair) for elve_pair in elve_work_sets])"
   ]
  },
  {
   "cell_type": "code",
   "execution_count": 28,
   "metadata": {},
   "outputs": [],
   "source": [
    "def determine_any_overlap(elve_pair):\n",
    "    first_elve = elve_pair[0]\n",
    "    second_elve = elve_pair[1]\n",
    "    unified_work = first_elve.intersection(second_elve)\n",
    "    total_areas = len(unified_work)\n",
    "    if total_areas == 0:\n",
    "        return 0\n",
    "    else:\n",
    "        return 1"
   ]
  },
  {
   "cell_type": "code",
   "execution_count": 29,
   "metadata": {},
   "outputs": [
    {
     "data": {
      "text/plain": [
       "924"
      ]
     },
     "execution_count": 29,
     "metadata": {},
     "output_type": "execute_result"
    }
   ],
   "source": [
    "sum([determine_any_overlap(elve_pair) for elve_pair in elve_work_sets])"
   ]
  },
  {
   "cell_type": "code",
   "execution_count": null,
   "metadata": {},
   "outputs": [],
   "source": []
  }
 ],
 "metadata": {
  "kernelspec": {
   "display_name": "Python 3.8.10 ('.venv': venv)",
   "language": "python",
   "name": "python3"
  },
  "language_info": {
   "codemirror_mode": {
    "name": "ipython",
    "version": 3
   },
   "file_extension": ".py",
   "mimetype": "text/x-python",
   "name": "python",
   "nbconvert_exporter": "python",
   "pygments_lexer": "ipython3",
   "version": "3.8.10"
  },
  "orig_nbformat": 4,
  "vscode": {
   "interpreter": {
    "hash": "3cbafc3e6ec49d7f1b844a015ff2ccb4f1535378fea15f3dafaf305ac2d5214f"
   }
  }
 },
 "nbformat": 4,
 "nbformat_minor": 2
}
