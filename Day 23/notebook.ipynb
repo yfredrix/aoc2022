{
 "cells": [
  {
   "cell_type": "code",
   "execution_count": 90,
   "metadata": {},
   "outputs": [],
   "source": [
    "with open(\"elvelocations.txt\") as file:\n",
    "    elvelocations = file.read().split(\"\\n\")"
   ]
  },
  {
   "cell_type": "code",
   "execution_count": 84,
   "metadata": {},
   "outputs": [],
   "source": [
    "with open(\"fenno.txt\") as file:\n",
    "    elvelocations = file.read().split(\"\\n\")"
   ]
  },
  {
   "cell_type": "code",
   "execution_count": 87,
   "metadata": {},
   "outputs": [],
   "source": [
    "with open(\"example.txt\") as file:\n",
    "    elvelocations = file.read().split(\"\\n\")"
   ]
  },
  {
   "cell_type": "code",
   "execution_count": 78,
   "metadata": {},
   "outputs": [],
   "source": [
    "from collections import Counter"
   ]
  },
  {
   "cell_type": "code",
   "execution_count": 79,
   "metadata": {},
   "outputs": [],
   "source": [
    "elve_indexes = []\n",
    "for i in range(len(elvelocations)):\n",
    "    for j in range(len(elvelocations[0])):\n",
    "        if elvelocations[i][j] == \"#\":\n",
    "            elve_indexes.append(tuple([i,j]))"
   ]
  },
  {
   "cell_type": "code",
   "execution_count": 80,
   "metadata": {},
   "outputs": [],
   "source": [
    "def elves_which_can_move(elves):\n",
    "    movable_elves = set()\n",
    "    elf_directions = {}\n",
    "    for elf in elves:\n",
    "        for i in range(-1,2):\n",
    "            for j in range(-1,2):\n",
    "                if i == 0 and j == 0: continue\n",
    "                if (elf[0] + i, elf[1]+j) in elves:\n",
    "                    movable_elves.add(elf)\n",
    "                    if elf not in elf_directions:\n",
    "                        elf_directions[elf] = []\n",
    "                    elf_directions[elf].append((i,j))\n",
    "    return movable_elves, elf_directions"
   ]
  },
  {
   "cell_type": "code",
   "execution_count": 81,
   "metadata": {},
   "outputs": [],
   "source": [
    "def choose_move(elf, elves_directions, direction):\n",
    "    global next_dir\n",
    "    elf_dir = elves_directions[elf]\n",
    "    for i in range(4):\n",
    "        if direction == \"N\" and all([i[0] != -1 for i in elf_dir]):\n",
    "            return (elf[0] - 1, elf[1])\n",
    "\n",
    "        if direction == \"S\" and all([i[0] != 1 for i in elf_dir]):\n",
    "            return (elf[0] + 1, elf[1])\n",
    "\n",
    "        if direction == \"W\" and all([i[1] != -1 for i in elf_dir]):\n",
    "            return (elf[0], elf[1] - 1)\n",
    "\n",
    "        if direction == \"E\" and all([i[1] != 1 for i in elf_dir]):\n",
    "            return (elf[0], elf[1] + 1)\n",
    "\n",
    "        direction = next_dir[direction]\n",
    "    return None\n"
   ]
  },
  {
   "cell_type": "code",
   "execution_count": 95,
   "metadata": {},
   "outputs": [],
   "source": [
    "next_dir = {\"N\": \"S\", \"S\": \"W\", \"W\": \"E\", \"E\": \"N\"}\n",
    "elve_indexes = []\n",
    "for i in range(len(elvelocations)):\n",
    "    for j in range(len(elvelocations[0])):\n",
    "        if elvelocations[i][j] == \"#\":\n",
    "            elve_indexes.append(tuple([i, j]))\n",
    "moving_elves, elve_dirs = elves_which_can_move(elve_indexes)\n",
    "direction = \"N\"\n",
    "ronde = 0\n",
    "\n",
    "while moving_elves and ronde < 10:\n",
    "    new_locs = {}\n",
    "    \n",
    "    for elf in moving_elves:\n",
    "        possible_move = choose_move(elf, elve_dirs, direction)\n",
    "        if possible_move is not None:\n",
    "            new_locs[elf] = possible_move\n",
    "    \n",
    "    number_of_occs = Counter(new_locs.values())\n",
    "    \n",
    "    for elf in new_locs:\n",
    "        if number_of_occs[new_locs[elf]] > 1:\n",
    "            continue\n",
    "        else:\n",
    "            elve_indexes.remove(elf)\n",
    "            elve_indexes.append(new_locs[elf])\n",
    "\n",
    "    moving_elves.clear()\n",
    "    ronde += 1\n",
    "    direction = next_dir[direction]\n",
    "    moving_elves, elve_dirs = elves_which_can_move(elve_indexes)\n"
   ]
  },
  {
   "cell_type": "code",
   "execution_count": 96,
   "metadata": {},
   "outputs": [
    {
     "data": {
      "text/plain": [
       "3966"
      ]
     },
     "execution_count": 96,
     "metadata": {},
     "output_type": "execute_result"
    }
   ],
   "source": [
    "(max([x[0] for x in elve_indexes]) - min([x[0] for x in elve_indexes]) + 1) * (\n",
    "    max([x[1] for x in elve_indexes]) - min([x[1] for x in elve_indexes]) + 1\n",
    ") - len(elve_indexes)\n",
    "# >3887"
   ]
  },
  {
   "cell_type": "code",
   "execution_count": 101,
   "metadata": {},
   "outputs": [
    {
     "name": "stdout",
     "output_type": "stream",
     "text": [
      "100\n",
      "200\n",
      "300\n",
      "400\n",
      "500\n",
      "600\n",
      "700\n",
      "800\n",
      "900\n",
      "933\n"
     ]
    }
   ],
   "source": [
    "next_dir = {\"N\": \"S\", \"S\": \"W\", \"W\": \"E\", \"E\": \"N\"}\n",
    "elve_indexes = set()\n",
    "for i in range(len(elvelocations)):\n",
    "    for j in range(len(elvelocations[0])):\n",
    "        if elvelocations[i][j] == \"#\":\n",
    "            elve_indexes.add(tuple([i, j]))\n",
    "moving_elves, elve_dirs = elves_which_can_move(elve_indexes)\n",
    "direction = \"N\"\n",
    "ronde = 1\n",
    "\n",
    "while moving_elves:\n",
    "    new_locs = {}\n",
    "    if ronde %100 ==0:\n",
    "        print(ronde)\n",
    "    for elf in moving_elves:\n",
    "        possible_move = choose_move(elf, elve_dirs, direction)\n",
    "        if possible_move is not None:\n",
    "            new_locs[elf] = possible_move\n",
    "    \n",
    "    number_of_occs = Counter(new_locs.values())\n",
    "    \n",
    "    for elf in new_locs:\n",
    "        if number_of_occs[new_locs[elf]] > 1:\n",
    "            continue\n",
    "        else:\n",
    "            elve_indexes.remove(elf)\n",
    "            elve_indexes.add(new_locs[elf])\n",
    "\n",
    "    moving_elves.clear()\n",
    "    ronde += 1\n",
    "    direction = next_dir[direction]\n",
    "    moving_elves, elve_dirs = elves_which_can_move(elve_indexes)\n",
    "print(ronde)"
   ]
  },
  {
   "cell_type": "code",
   "execution_count": null,
   "metadata": {},
   "outputs": [],
   "source": []
  }
 ],
 "metadata": {
  "kernelspec": {
   "display_name": ".venv",
   "language": "python",
   "name": "python3"
  },
  "language_info": {
   "codemirror_mode": {
    "name": "ipython",
    "version": 3
   },
   "file_extension": ".py",
   "mimetype": "text/x-python",
   "name": "python",
   "nbconvert_exporter": "python",
   "pygments_lexer": "ipython3",
   "version": "3.10.9"
  },
  "orig_nbformat": 4,
  "vscode": {
   "interpreter": {
    "hash": "014edb13ea8bca09f2ae5715b81f4455f7f2c2c94fc70679b76fd18cfda98626"
   }
  }
 },
 "nbformat": 4,
 "nbformat_minor": 2
}
