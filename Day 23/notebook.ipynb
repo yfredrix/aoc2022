{
 "cells": [
  {
   "cell_type": "code",
   "execution_count": 79,
   "metadata": {},
   "outputs": [],
   "source": [
    "with open(\"elvelocations.txt\") as file:\n",
    "    elvelocations = file.read().split(\"\\n\")"
   ]
  },
  {
   "cell_type": "code",
   "execution_count": 50,
   "metadata": {},
   "outputs": [],
   "source": [
    "with open(\"example.txt\") as file:\n",
    "    elvelocations = file.read().split(\"\\n\")"
   ]
  },
  {
   "cell_type": "code",
   "execution_count": 80,
   "metadata": {},
   "outputs": [],
   "source": [
    "elve_indexes = []\n",
    "for i in range(len(elvelocations)):\n",
    "    for j in range(len(elvelocations[0])):\n",
    "        if elvelocations[i][j] == \"#\":\n",
    "            elve_indexes.append(tuple([i,j]))"
   ]
  },
  {
   "cell_type": "code",
   "execution_count": 81,
   "metadata": {},
   "outputs": [],
   "source": [
    "def elves_which_can_move(elves):\n",
    "    movable_elves = set()\n",
    "    elf_directions = {}\n",
    "    for elf in elves:\n",
    "        for i in range(-1,2):\n",
    "            for j in range(-1,2):\n",
    "                if i == 0 and j == 0: continue\n",
    "                if (elf[0] + i, elf[1]+j) in elves:\n",
    "                    movable_elves.add(elf)\n",
    "                    if elf not in elf_directions:\n",
    "                        elf_directions[elf] = []\n",
    "                    elf_directions[elf].append((i,j))\n",
    "    return movable_elves, elf_directions"
   ]
  },
  {
   "cell_type": "code",
   "execution_count": 82,
   "metadata": {},
   "outputs": [],
   "source": [
    "def elf_will_move_0(elf, elf_directions):\n",
    "    elf_dir = elf_directions[elf]\n",
    "    if all([i[0] != -1 for i in elf_dir]):\n",
    "        return (elf[0] - 1, elf[1])\n",
    "    if all([i[0] != 1 for i in elf_dir]):\n",
    "        return (elf[0] + 1, elf[1])\n",
    "    if all([i[1] != -1 for i in elf_dir]):\n",
    "        return (elf[0], elf[1] - 1)\n",
    "    if all([i[1] != 1 for i in elf_dir]):\n",
    "        return (elf[0], elf[1] + 1)\n",
    "\n",
    "\n",
    "def elf_will_move_1(elf, elf_directions):\n",
    "    elf_dir = elf_directions[elf]\n",
    "    if all([i[0] != 1 for i in elf_dir]):\n",
    "        return (elf[0] + 1, elf[1])\n",
    "    if all([i[1] != -1 for i in elf_dir]):\n",
    "        return (elf[0], elf[1] - 1)\n",
    "    if all([i[1] != 1 for i in elf_dir]):\n",
    "        return (elf[0], elf[1] + 1)\n",
    "    if all([i[0] != -1 for i in elf_dir]):\n",
    "        return (elf[0] - 1, elf[1])\n",
    "\n",
    "\n",
    "def elf_will_move_2(elf, elf_directions):\n",
    "    elf_dir = elf_directions[elf]\n",
    "    if all([i[1] != -1 for i in elf_dir]):\n",
    "        return (elf[0], elf[1] - 1)\n",
    "    if all([i[1] != 1 for i in elf_dir]):\n",
    "        return (elf[0], elf[1] + 1)\n",
    "    if all([i[0] != -1 for i in elf_dir]):\n",
    "        return (elf[0] - 1, elf[1])\n",
    "    if all([i[0] != 1 for i in elf_dir]):\n",
    "        return (elf[0] + 1, elf[1])\n",
    "\n",
    "\n",
    "def elf_will_move_3(elf, elf_directions):\n",
    "    elf_dir = elf_directions[elf]\n",
    "    if all([i[1] != 1 for i in elf_dir]):\n",
    "        return (elf[0], elf[1] + 1)\n",
    "    if all([i[0] != -1 for i in elf_dir]):\n",
    "        return (elf[0] - 1, elf[1])\n",
    "    if all([i[0] != 1 for i in elf_dir]):\n",
    "        return (elf[0] + 1, elf[1])\n",
    "    if all([i[1] != -1 for i in elf_dir]):\n",
    "        return (elf[0], elf[1] - 1)\n",
    "\n",
    "\n",
    "move_function = {\n",
    "    0: elf_will_move_0,\n",
    "    1: elf_will_move_1,\n",
    "    2: elf_will_move_2,\n",
    "    3: elf_will_move_3,\n",
    "}\n"
   ]
  },
  {
   "cell_type": "code",
   "execution_count": 83,
   "metadata": {},
   "outputs": [],
   "source": [
    "moving_elves, elve_dirs = elves_which_can_move(elve_indexes)\n",
    "ronde = 0\n",
    "while moving_elves and ronde<9:\n",
    "    new_locs = {}\n",
    "    for elf in moving_elves:\n",
    "        new_locs[elf] = move_function[ronde%4](elf, elve_dirs)\n",
    "    elves = [key for key, loc in new_locs.items() if list(new_locs.values()).count(loc) == 1]\n",
    "    for elf in elves:\n",
    "        elve_indexes.remove(elf)\n",
    "        elve_indexes.append(new_locs[elf])\n",
    "    moving_elves.clear()\n",
    "    ronde += 1\n",
    "    moving_elves, elve_dirs = elves_which_can_move(elve_indexes)"
   ]
  },
  {
   "cell_type": "code",
   "execution_count": 68,
   "metadata": {},
   "outputs": [
    {
     "data": {
      "text/plain": [
       "10"
      ]
     },
     "execution_count": 68,
     "metadata": {},
     "output_type": "execute_result"
    }
   ],
   "source": [
    "ronde"
   ]
  },
  {
   "cell_type": "code",
   "execution_count": 84,
   "metadata": {},
   "outputs": [
    {
     "data": {
      "text/plain": [
       "6084"
      ]
     },
     "execution_count": 84,
     "metadata": {},
     "output_type": "execute_result"
    }
   ],
   "source": [
    "(max(elve_indexes, key=lambda x: x[0])[0] - min(elve_indexes, key=lambda x: x[0])[0])*(max(elve_indexes, key=lambda x: x[1])[1]-min(elve_indexes, key=lambda x: x[1])[1])\n",
    "# < 6084"
   ]
  },
  {
   "cell_type": "code",
   "execution_count": 74,
   "metadata": {},
   "outputs": [
    {
     "data": {
      "text/plain": [
       "6806"
      ]
     },
     "execution_count": 74,
     "metadata": {},
     "output_type": "execute_result"
    }
   ],
   "source": [
    "(76--7) * (76--6)\n",
    "# < 6806"
   ]
  },
  {
   "cell_type": "code",
   "execution_count": null,
   "metadata": {},
   "outputs": [],
   "source": []
  }
 ],
 "metadata": {
  "kernelspec": {
   "display_name": ".venv",
   "language": "python",
   "name": "python3"
  },
  "language_info": {
   "codemirror_mode": {
    "name": "ipython",
    "version": 3
   },
   "file_extension": ".py",
   "mimetype": "text/x-python",
   "name": "python",
   "nbconvert_exporter": "python",
   "pygments_lexer": "ipython3",
   "version": "3.10.9"
  },
  "orig_nbformat": 4,
  "vscode": {
   "interpreter": {
    "hash": "3cbafc3e6ec49d7f1b844a015ff2ccb4f1535378fea15f3dafaf305ac2d5214f"
   }
  }
 },
 "nbformat": 4,
 "nbformat_minor": 2
}
