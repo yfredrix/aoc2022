{
 "cells": [
  {
   "cell_type": "code",
   "execution_count": 32,
   "metadata": {},
   "outputs": [],
   "source": [
    "from typing import List, Tuple, Dict\n",
    "from tqdm import tqdm"
   ]
  },
  {
   "cell_type": "code",
   "execution_count": 40,
   "metadata": {},
   "outputs": [],
   "source": [
    "windgusts = \">>><<><>><<<>><>>><<<>>><<<><<<>><>><<>>\""
   ]
  },
  {
   "cell_type": "code",
   "execution_count": 92,
   "metadata": {},
   "outputs": [],
   "source": [
    "with open(\"input.txt\") as file:\n",
    "    windgusts = file.read()"
   ]
  },
  {
   "cell_type": "code",
   "execution_count": 93,
   "metadata": {},
   "outputs": [],
   "source": [
    "rock_options = [\n",
    "    {\"min_x\": 2, \"max_x\": 5, \"loc\": [[2, 0], [3, 0], [4, 0], [5, 0]], \"shape\": \"-\"},\n",
    "    {\"min_x\": 2, \"max_x\": 4, \"loc\": [[3, 0], [2, 1], [3, 1], [4, 1], [3, 2]], \"shape\": \"c\"},\n",
    "    {\"min_x\": 2, \"max_x\": 4, \"loc\": [[2, 0], [3, 0], [4, 0], [4, 1], [4, 2]], \"shape\": \"L\"},\n",
    "    {\"min_x\": 2, \"max_x\": 2, \"loc\": [[2, 0], [2, 1], [2, 2], [2, 3]], \"shape\": \"|\"},\n",
    "    {\"min_x\": 2, \"max_x\": 3, \"loc\": [[2, 0], [3, 0], [2, 1], [3, 1]], \"shape\": \"s\"},\n",
    "]\n"
   ]
  },
  {
   "cell_type": "code",
   "execution_count": 94,
   "metadata": {},
   "outputs": [],
   "source": [
    "def update_rock(\n",
    "    rock: Dict[str, int | List[List[int]]], wind: str, cave: List[List[int]]\n",
    ") -> Tuple[Dict[str, int | List[List[int]]], List[List[int]], bool]:\n",
    "    if wind == \"<\" and rock[\"min_x\"] > 0:\n",
    "        new_loc = [[j[0] - 1, j[1]] for j in rock[\"loc\"]]\n",
    "        if all([loc not in cave for loc in new_loc]):\n",
    "            rock[\"min_x\"] -= 1\n",
    "            rock[\"max_x\"] -= 1   \n",
    "            rock[\"loc\"] = new_loc\n",
    "        \n",
    "    if wind == \">\" and rock[\"max_x\"] < 6:\n",
    "        new_loc = [[j[0] + 1, j[1]] for j in rock[\"loc\"]]\n",
    "        if all([loc not in cave for loc in new_loc]):\n",
    "            rock[\"min_x\"] += 1\n",
    "            rock[\"max_x\"] += 1\n",
    "            rock[\"loc\"] = new_loc\n",
    "    new_loc = [[j[0], j[1] - 1] for j in rock[\"loc\"]]\n",
    "    if all([loc not in cave for loc in new_loc]):\n",
    "        rock[\"loc\"] = new_loc\n",
    "        new_rock = False\n",
    "    else:\n",
    "        cave += rock[\"loc\"]\n",
    "        new_rock = True\n",
    "    return rock, cave, new_rock\n"
   ]
  },
  {
   "cell_type": "code",
   "execution_count": 95,
   "metadata": {},
   "outputs": [],
   "source": [
    "import numpy as np\n",
    "import matplotlib.pyplot as plt"
   ]
  },
  {
   "attachments": {},
   "cell_type": "markdown",
   "metadata": {},
   "source": [
    "## Part 1"
   ]
  },
  {
   "cell_type": "code",
   "execution_count": 96,
   "metadata": {},
   "outputs": [
    {
     "name": "stderr",
     "output_type": "stream",
     "text": [
      "100%|██████████| 2022/2022 [00:26<00:00, 75.43it/s] \n"
     ]
    }
   ],
   "source": [
    "cave_rock_places = [[i, 0] for i in range(7)]\n",
    "max_wind = len(windgusts)\n",
    "wind_index = 0\n",
    "for rock_nr in tqdm(range(2022)):\n",
    "    max_rock_level = max(loc[1] for loc in cave_rock_places)\n",
    "    falling_rock_index = rock_nr % 5\n",
    "    rock = rock_options[falling_rock_index].copy()\n",
    "    rock[\"loc\"] = [[j[0], j[1] + max_rock_level + 4] for j in rock[\"loc\"]]\n",
    "    new_rock = False\n",
    "    while not new_rock:\n",
    "        wind = windgusts[wind_index]\n",
    "        rock, cave_rock_places, new_rock = update_rock(rock, wind, cave_rock_places)\n",
    "        wind_index += 1\n",
    "        wind_index %= max_wind"
   ]
  },
  {
   "cell_type": "code",
   "execution_count": 97,
   "metadata": {},
   "outputs": [
    {
     "data": {
      "text/plain": [
       "3191"
      ]
     },
     "execution_count": 97,
     "metadata": {},
     "output_type": "execute_result"
    }
   ],
   "source": [
    "max_rock_level = max(loc[1] for loc in cave_rock_places)\n",
    "max_rock_level"
   ]
  },
  {
   "attachments": {},
   "cell_type": "markdown",
   "metadata": {},
   "source": [
    "## Part 2"
   ]
  },
  {
   "cell_type": "code",
   "execution_count": 129,
   "metadata": {},
   "outputs": [
    {
     "name": "stderr",
     "output_type": "stream",
     "text": [
      "  0%|          | 3160/1000000000000 [00:18<1588178:44:56, 174.90it/s]"
     ]
    },
    {
     "name": "stdout",
     "output_type": "stream",
     "text": [
      "1572093023267\n"
     ]
    },
    {
     "name": "stderr",
     "output_type": "stream",
     "text": [
      "\n"
     ]
    }
   ],
   "source": [
    "cave_rock_places = [[i, 0] for i in range(7)]\n",
    "max_wind = len(windgusts)\n",
    "wind_index = 0\n",
    "cache = {}\n",
    "ITTERATION_LIMIT = 1000000000000\n",
    "for rock_nr in tqdm(range(ITTERATION_LIMIT)):\n",
    "    max_rock_level = max(loc[1] for loc in cave_rock_places)\n",
    "    falling_rock_index = rock_nr % 5\n",
    "    \n",
    "    if (falling_rock_index, wind_index) in cache:\n",
    "        Cache_Rock, Cache_Height = cache[(falling_rock_index, wind_index)]\n",
    "        diviser, modulus = divmod(ITTERATION_LIMIT - rock_nr, Cache_Rock - rock_nr)\n",
    "        if not modulus:\n",
    "            print(max_rock_level + (Cache_Height - max_rock_level)*diviser)\n",
    "            break\n",
    "    else:\n",
    "        cache[(falling_rock_index, wind_index)] = (rock_nr, max_rock_level)    \n",
    "    \n",
    "    rock = rock_options[falling_rock_index].copy()\n",
    "    rock[\"loc\"] = [[j[0], j[1] + max_rock_level + 4] for j in rock[\"loc\"]]\n",
    "    new_rock = False\n",
    "    while not new_rock:\n",
    "        wind = windgusts[wind_index]\n",
    "        rock, cave_rock_places, new_rock = update_rock(rock, wind, cave_rock_places)\n",
    "        wind_index += 1\n",
    "        wind_index %= max_wind"
   ]
  },
  {
   "cell_type": "code",
   "execution_count": null,
   "metadata": {},
   "outputs": [],
   "source": []
  }
 ],
 "metadata": {
  "kernelspec": {
   "display_name": ".venv",
   "language": "python",
   "name": "python3"
  },
  "language_info": {
   "codemirror_mode": {
    "name": "ipython",
    "version": 3
   },
   "file_extension": ".py",
   "mimetype": "text/x-python",
   "name": "python",
   "nbconvert_exporter": "python",
   "pygments_lexer": "ipython3",
   "version": "3.10.9"
  },
  "orig_nbformat": 4,
  "vscode": {
   "interpreter": {
    "hash": "014edb13ea8bca09f2ae5715b81f4455f7f2c2c94fc70679b76fd18cfda98626"
   }
  }
 },
 "nbformat": 4,
 "nbformat_minor": 2
}
