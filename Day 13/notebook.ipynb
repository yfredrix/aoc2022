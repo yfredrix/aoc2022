{
 "cells": [
  {
   "cell_type": "code",
   "execution_count": 152,
   "metadata": {},
   "outputs": [],
   "source": [
    "from itertools import groupby"
   ]
  },
  {
   "cell_type": "code",
   "execution_count": 170,
   "metadata": {},
   "outputs": [],
   "source": [
    "all_signal_pairs = [\n",
    "    [[1, 1, 3, 1, 1], [1, 1, 5, 1, 1]],\n",
    "    [[[1], [2, 3, 4]], [[1], 4]],\n",
    "    [[9], [[8, 7, 6]]],\n",
    "    [[[4, 4], 4, 4], [[4, 4], 4, 4, 4]],\n",
    "    [[7, 7, 7, 7], [7, 7, 7]],\n",
    "    [[], [3]],\n",
    "    [[[[]]], [[]]],\n",
    "    [[1, [2, [3, [4, [5, 6, 7]]]], 8, 9], [1, [2, [3, [4, [5, 6, 0]]]], 8, 9]],\n",
    "]\n"
   ]
  },
  {
   "cell_type": "code",
   "execution_count": 154,
   "metadata": {},
   "outputs": [],
   "source": [
    "with open(\"input.txt\") as file:\n",
    "    signal_data = file.read().split(\"\\n\")\n",
    "    signal_pairs = [list(sub) for ele, sub in groupby(signal_data, key=bool) if ele]"
   ]
  },
  {
   "cell_type": "code",
   "execution_count": 145,
   "metadata": {},
   "outputs": [],
   "source": [
    "all_signal_pairs = []\n",
    "for pair in signal_pairs:\n",
    "    paired_signal = []\n",
    "    for signal in pair:\n",
    "        paired_signal.append(eval(signal))\n",
    "    all_signal_pairs.append(paired_signal)"
   ]
  },
  {
   "cell_type": "code",
   "execution_count": 146,
   "metadata": {},
   "outputs": [
    {
     "data": {
      "text/plain": [
       "[[9, 2], [], [10, [6, 1], 5, 4]]"
      ]
     },
     "execution_count": 146,
     "metadata": {},
     "output_type": "execute_result"
    }
   ],
   "source": [
    "all_signal_pairs[0][0]"
   ]
  },
  {
   "cell_type": "code",
   "execution_count": 147,
   "metadata": {},
   "outputs": [
    {
     "data": {
      "text/plain": [
       "[[[9, [], 3], [6], 1], [[1], [[9, 1], 0, 7, 10], 2, 0]]"
      ]
     },
     "execution_count": 147,
     "metadata": {},
     "output_type": "execute_result"
    }
   ],
   "source": [
    "all_signal_pairs[0][1]"
   ]
  },
  {
   "cell_type": "code",
   "execution_count": 148,
   "metadata": {},
   "outputs": [],
   "source": [
    "def compare_pairs(pair):\n",
    "    left = pair[0]\n",
    "    right = pair[1]\n",
    "    if isinstance(left, int) and isinstance(right, int):\n",
    "        if left == right:\n",
    "            return False, True\n",
    "        else:\n",
    "            return left > right, False\n",
    "    elif isinstance(left, list) and isinstance(right, list):\n",
    "        for i in range(min(len(left), len(right))):\n",
    "            out_of_order, check_further = compare_pairs([left[i], right[i]])\n",
    "            if check_further:\n",
    "                continue\n",
    "            else:\n",
    "                return out_of_order, False\n",
    "        if len(left) == len(right):\n",
    "            return False, True\n",
    "        elif len(left) > len(right):\n",
    "            return True, False\n",
    "        else:\n",
    "            return False, False\n",
    "    elif isinstance(left, list):\n",
    "        out_of_order, check_further = compare_pairs([left, [right]])\n",
    "        return out_of_order, check_further\n",
    "    else:\n",
    "        out_of_order, check_further = compare_pairs([[left], right])\n",
    "        return out_of_order, check_further\n"
   ]
  },
  {
   "cell_type": "code",
   "execution_count": 149,
   "metadata": {},
   "outputs": [],
   "source": [
    "outputs = []\n",
    "for i, pair in enumerate(all_signal_pairs):\n",
    "    try:\n",
    "        out_of_order, check_further = compare_pairs(pair)\n",
    "        if not out_of_order:\n",
    "            outputs.append(i+1)\n",
    "    except:\n",
    "        continue"
   ]
  },
  {
   "cell_type": "code",
   "execution_count": 150,
   "metadata": {},
   "outputs": [
    {
     "data": {
      "text/plain": [
       "5659"
      ]
     },
     "execution_count": 150,
     "metadata": {},
     "output_type": "execute_result"
    }
   ],
   "source": [
    "sum(outputs)"
   ]
  },
  {
   "cell_type": "code",
   "execution_count": 202,
   "metadata": {},
   "outputs": [],
   "source": [
    "all_signals = []\n",
    "for signal in signal_data:\n",
    "    if signal:\n",
    "        all_signals.append(eval(signal))"
   ]
  },
  {
   "cell_type": "code",
   "execution_count": 203,
   "metadata": {},
   "outputs": [],
   "source": [
    "# Add distress signals\n",
    "all_signals.append([[2]])\n",
    "all_signals.append([[6]])"
   ]
  },
  {
   "cell_type": "code",
   "execution_count": 196,
   "metadata": {},
   "outputs": [],
   "source": [
    "all_signals = [\n",
    "    [1, 1, 3, 1, 1],\n",
    "    [1, 1, 5, 1, 1],\n",
    "    [[1], [2, 3, 4]],\n",
    "    [[1], 4],\n",
    "    [9],\n",
    "    [[8, 7, 6]],\n",
    "    [[4, 4], 4, 4],\n",
    "    [[4, 4], 4, 4, 4],\n",
    "    [7, 7, 7, 7],\n",
    "    [7, 7, 7],\n",
    "    [],\n",
    "    [3],\n",
    "    [[[]]],\n",
    "    [[]],\n",
    "    [1, [2, [3, [4, [5, 6, 7]]]], 8, 9],\n",
    "    [1, [2, [3, [4, [5, 6, 0]]]], 8, 9],\n",
    "    [[2]],\n",
    "    [[6]],\n",
    "]\n"
   ]
  },
  {
   "cell_type": "code",
   "execution_count": 204,
   "metadata": {},
   "outputs": [],
   "source": [
    "def check_two_signals(signal_1, signal_2):\n",
    "    out_of_order, check_further = compare_pairs([signal_1, signal_2])\n",
    "    return out_of_order"
   ]
  },
  {
   "cell_type": "code",
   "execution_count": 205,
   "metadata": {},
   "outputs": [],
   "source": [
    "from functools import cmp_to_key"
   ]
  },
  {
   "cell_type": "code",
   "execution_count": 210,
   "metadata": {},
   "outputs": [
    {
     "data": {
      "text/plain": [
       "22110"
      ]
     },
     "execution_count": 210,
     "metadata": {},
     "output_type": "execute_result"
    }
   ],
   "source": [
    "ordered_signals = sorted(\n",
    "    all_signals, key=cmp_to_key(lambda a, b: check_two_signals(a, b)-1)\n",
    ")\n",
    "(ordered_signals.index([[2]]) + 1) * (ordered_signals.index([[6]]) + 1)\n"
   ]
  },
  {
   "cell_type": "code",
   "execution_count": null,
   "metadata": {},
   "outputs": [],
   "source": []
  }
 ],
 "metadata": {
  "kernelspec": {
   "display_name": ".venv",
   "language": "python",
   "name": "python3"
  },
  "language_info": {
   "codemirror_mode": {
    "name": "ipython",
    "version": 3
   },
   "file_extension": ".py",
   "mimetype": "text/x-python",
   "name": "python",
   "nbconvert_exporter": "python",
   "pygments_lexer": "ipython3",
   "version": "3.10.9"
  },
  "orig_nbformat": 4,
  "vscode": {
   "interpreter": {
    "hash": "3cbafc3e6ec49d7f1b844a015ff2ccb4f1535378fea15f3dafaf305ac2d5214f"
   }
  }
 },
 "nbformat": 4,
 "nbformat_minor": 2
}
