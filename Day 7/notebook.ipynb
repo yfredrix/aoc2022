{
 "cells": [
  {
   "cell_type": "code",
   "execution_count": 29,
   "metadata": {},
   "outputs": [],
   "source": [
    "with open(\"input.txt\") as file:\n",
    "    instructions = file.read().split(\"\\n\")"
   ]
  },
  {
   "cell_type": "code",
   "execution_count": 30,
   "metadata": {},
   "outputs": [],
   "source": [
    "file_structure = {}\n",
    "file_structure['/'] = {}\n",
    "path = []"
   ]
  },
  {
   "cell_type": "code",
   "execution_count": 31,
   "metadata": {},
   "outputs": [],
   "source": [
    "for consule in instructions:\n",
    "    if \"$\" in consule: \n",
    "        instruction = consule.split(\" \")\n",
    "        if instruction[1] == \"cd\": \n",
    "            if instruction[2] == '..': \n",
    "                path = path[:-1]\n",
    "            elif instruction[2] == \"/\":\n",
    "                path = [\"/\"]\n",
    "            else:\n",
    "                path.append(instruction[2])\n",
    "    else:\n",
    "        response = consule.split(\" \")\n",
    "        file_name = response[1]\n",
    "        size_dir = response[0]\n",
    "        sub_dir = file_structure[path[0]]\n",
    "        for i in range(1, len(path)):\n",
    "            sub_dir = sub_dir[path[i]]\n",
    "        if size_dir == \"dir\":\n",
    "            sub_dir[file_name] = {}\n",
    "        else:\n",
    "            sub_dir[file_name] = int(size_dir)"
   ]
  },
  {
   "cell_type": "code",
   "execution_count": 32,
   "metadata": {},
   "outputs": [],
   "source": [
    "sub_dir = file_structure[path[0]]\n",
    "for i in range(1, len(path)):\n",
    "    sub_dir = sub_dir[path[i]]"
   ]
  },
  {
   "cell_type": "code",
   "execution_count": 33,
   "metadata": {},
   "outputs": [],
   "source": [
    "def calculate_size(size, folder_structure):\n",
    "    if isinstance(folder_structure, int):\n",
    "        return folder_structure, folder_structure\n",
    "    if \"size\" in folder_structure:\n",
    "        return folder_structure[\"size\"], folder_structure\n",
    "    else:\n",
    "        folder_structure[\"size\"] = sum([calculate_size(0, folder_structure[folder])[0] for folder in folder_structure])\n",
    "        return folder_structure[\"size\"], folder_structure"
   ]
  },
  {
   "cell_type": "code",
   "execution_count": 34,
   "metadata": {},
   "outputs": [],
   "source": [
    "size_structure = calculate_size(0, file_structure)"
   ]
  },
  {
   "cell_type": "code",
   "execution_count": 35,
   "metadata": {},
   "outputs": [],
   "source": [
    "import nested_lookup"
   ]
  },
  {
   "cell_type": "code",
   "execution_count": 36,
   "metadata": {},
   "outputs": [
    {
     "data": {
      "text/plain": [
       "1423358"
      ]
     },
     "execution_count": 36,
     "metadata": {},
     "output_type": "execute_result"
    }
   ],
   "source": [
    "sum([i for i in nested_lookup.nested_lookup('size', size_structure[1]) if i <= 100000])"
   ]
  },
  {
   "cell_type": "code",
   "execution_count": 37,
   "metadata": {},
   "outputs": [],
   "source": [
    "available_space = 70000000 - size_structure[0]"
   ]
  },
  {
   "cell_type": "code",
   "execution_count": 38,
   "metadata": {},
   "outputs": [
    {
     "data": {
      "text/plain": [
       "545729"
      ]
     },
     "execution_count": 38,
     "metadata": {},
     "output_type": "execute_result"
    }
   ],
   "source": [
    "sorted([i for i in nested_lookup.nested_lookup('size', size_structure[1]) if i >= 30000000 - available_space])[0]"
   ]
  },
  {
   "cell_type": "code",
   "execution_count": null,
   "metadata": {},
   "outputs": [],
   "source": []
  }
 ],
 "metadata": {
  "kernelspec": {
   "display_name": "Python 3.8.10 ('.venv': venv)",
   "language": "python",
   "name": "python3"
  },
  "language_info": {
   "codemirror_mode": {
    "name": "ipython",
    "version": 3
   },
   "file_extension": ".py",
   "mimetype": "text/x-python",
   "name": "python",
   "nbconvert_exporter": "python",
   "pygments_lexer": "ipython3",
   "version": "3.8.10"
  },
  "orig_nbformat": 4,
  "vscode": {
   "interpreter": {
    "hash": "3cbafc3e6ec49d7f1b844a015ff2ccb4f1535378fea15f3dafaf305ac2d5214f"
   }
  }
 },
 "nbformat": 4,
 "nbformat_minor": 2
}
