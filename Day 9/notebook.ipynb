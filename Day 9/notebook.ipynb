{
 "cells": [
  {
   "cell_type": "code",
   "execution_count": 29,
   "metadata": {},
   "outputs": [],
   "source": [
    "with open(\"input.txt\") as file:\n",
    "    actions = file.read().split(\"\\n\")"
   ]
  },
  {
   "cell_type": "code",
   "execution_count": 27,
   "metadata": {},
   "outputs": [],
   "source": [
    "actions = \"\"\"R 5\n",
    "U 8\n",
    "L 8\n",
    "D 3\n",
    "R 17\n",
    "D 10\n",
    "L 25\n",
    "U 20\"\"\".split(\"\\n\")"
   ]
  },
  {
   "cell_type": "code",
   "execution_count": 30,
   "metadata": {},
   "outputs": [],
   "source": [
    "import math\n",
    "from operator import add, sub"
   ]
  },
  {
   "cell_type": "code",
   "execution_count": 31,
   "metadata": {},
   "outputs": [],
   "source": [
    "def rope_breaking(position_h, position_t):\n",
    "    return (math.pow(position_h[0] - position_t[0], 2) + math.pow(position_h[1] - position_t[1], 2)) > 2"
   ]
  },
  {
   "cell_type": "code",
   "execution_count": 32,
   "metadata": {},
   "outputs": [],
   "source": [
    "updates = {\"L\": [-1, 0], \"R\": [1, 0], \"U\": [0, 1], \"D\": [0, -1]}\n"
   ]
  },
  {
   "cell_type": "code",
   "execution_count": 12,
   "metadata": {},
   "outputs": [],
   "source": [
    "position_h = [0,0]\n",
    "position_t = [0,0]\n",
    "positions_t_reached = set()\n",
    "for action in actions:\n",
    "    splitted_action = action.split(\" \")\n",
    "    direction = splitted_action[0]\n",
    "    nr_steps = int(splitted_action[1])\n",
    "    for i in range(nr_steps):\n",
    "        position_h = list(map(add, position_h, updates[direction]))\n",
    "        if rope_breaking(position_h, position_t):\n",
    "            position_t = list(map(sub, position_h, updates[direction]))\n",
    "        positions_t_reached.add(tuple(position_t))"
   ]
  },
  {
   "cell_type": "code",
   "execution_count": 33,
   "metadata": {},
   "outputs": [],
   "source": [
    "def update_tail(position_head, position_tail):\n",
    "    if position_head[0] == position_tail[0]:\n",
    "        position_tail[1] += 1 if position_head[1] > position_tail[1] else -1\n",
    "    elif position_head[1] == position_tail[1]:\n",
    "        position_tail[0] += 1 if position_head[0] > position_tail[0] else -1\n",
    "    else:\n",
    "        horizontal = 1 if position_head[0] > position_tail[0] else -1\n",
    "        vertical = 1 if position_head[1] > position_tail[1] else -1\n",
    "        position_tail[0] += horizontal\n",
    "        position_tail[1] += vertical\n",
    "    return position_tail"
   ]
  },
  {
   "cell_type": "code",
   "execution_count": 34,
   "metadata": {},
   "outputs": [
    {
     "data": {
      "text/plain": [
       "2619"
      ]
     },
     "execution_count": 34,
     "metadata": {},
     "output_type": "execute_result"
    }
   ],
   "source": [
    "knots = {}\n",
    "for i in range(10):\n",
    "    knots[i] = [0, 0]\n",
    "positions_t_reached = set()\n",
    "for action in actions:\n",
    "    splitted_action = action.split(\" \")\n",
    "    direction = splitted_action[0]\n",
    "    nr_steps = int(splitted_action[1])\n",
    "    for i in range(nr_steps):\n",
    "        current_pos = knots.copy()\n",
    "        knots[0] = list(map(add, knots[0], updates[direction]))\n",
    "        for knot_id in range(1, 10):\n",
    "            if rope_breaking(knots[knot_id-1], knots[knot_id]):\n",
    "                knots[knot_id] = update_tail(knots[knot_id-1], knots[knot_id])\n",
    "        positions_t_reached.add(tuple(knots[9]))\n",
    "len(positions_t_reached)"
   ]
  },
  {
   "cell_type": "code",
   "execution_count": null,
   "metadata": {},
   "outputs": [],
   "source": []
  }
 ],
 "metadata": {
  "kernelspec": {
   "display_name": "Python 3.8.10 ('.venv': venv)",
   "language": "python",
   "name": "python3"
  },
  "language_info": {
   "codemirror_mode": {
    "name": "ipython",
    "version": 3
   },
   "file_extension": ".py",
   "mimetype": "text/x-python",
   "name": "python",
   "nbconvert_exporter": "python",
   "pygments_lexer": "ipython3",
   "version": "3.10.9"
  },
  "orig_nbformat": 4,
  "vscode": {
   "interpreter": {
    "hash": "3cbafc3e6ec49d7f1b844a015ff2ccb4f1535378fea15f3dafaf305ac2d5214f"
   }
  }
 },
 "nbformat": 4,
 "nbformat_minor": 2
}
