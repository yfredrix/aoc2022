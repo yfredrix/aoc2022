{
 "cells": [
  {
   "cell_type": "code",
   "execution_count": 53,
   "metadata": {},
   "outputs": [],
   "source": [
    "from typing import Set, Tuple"
   ]
  },
  {
   "cell_type": "code",
   "execution_count": 64,
   "metadata": {},
   "outputs": [],
   "source": [
    "with open(\"example.txt\") as file:\n",
    "    valey = file.read().split(\"\\n\")"
   ]
  },
  {
   "cell_type": "code",
   "execution_count": 72,
   "metadata": {},
   "outputs": [],
   "source": [
    "with open(\"input.txt\") as file:\n",
    "    valey = file.read().split(\"\\n\")"
   ]
  },
  {
   "cell_type": "code",
   "execution_count": 73,
   "metadata": {},
   "outputs": [],
   "source": [
    "wall_bottom = len(valey) -1\n",
    "wall_right = len(valey[0]) -1\n",
    "wall_left = 0\n",
    "wall_top = 0"
   ]
  },
  {
   "cell_type": "code",
   "execution_count": null,
   "metadata": {},
   "outputs": [],
   "source": []
  },
  {
   "cell_type": "code",
   "execution_count": 74,
   "metadata": {},
   "outputs": [],
   "source": [
    "def update_wind_location(\n",
    "    current_winds: Set[Tuple[Tuple[int, int], str]]\n",
    ") -> Set[Tuple[Tuple[int, int], str]]:\n",
    "    global wall_bottom, wall_right, wall_left, wall_top\n",
    "    new_winds = set()\n",
    "    for wind in current_winds:\n",
    "        if wind[1] == \">\":\n",
    "            if wind[0][1] + 1 >= wall_right:\n",
    "                new_winds.add(((wind[0][0], 1), wind[1]))\n",
    "            else:\n",
    "                new_winds.add(((wind[0][0], wind[0][1] + 1), wind[1]))\n",
    "        elif wind[1] == \"<\":\n",
    "            if wind[0][1] - 1 <= wall_left:\n",
    "                new_winds.add(((wind[0][0], wall_right - 1), wind[1]))\n",
    "            else:\n",
    "                new_winds.add(((wind[0][0], wind[0][1] - 1), wind[1]))\n",
    "        elif wind[1] == \"v\":\n",
    "            if wind[0][0] + 1 >= wall_bottom:\n",
    "                new_winds.add(((1, wind[0][1]), wind[1]))\n",
    "            else:\n",
    "                new_winds.add(((wind[0][0] + 1, wind[0][1]), wind[1]))\n",
    "        elif wind[1] == \"^\":\n",
    "            if wind[0][0] - 1 <= wall_top:\n",
    "                new_winds.add(((wall_bottom-1, wind[0][1]), wind[1]))\n",
    "            else:\n",
    "                new_winds.add(((wind[0][0] - 1, wind[0][1]), wind[1]))\n",
    "    return new_winds\n"
   ]
  },
  {
   "cell_type": "code",
   "execution_count": 75,
   "metadata": {},
   "outputs": [],
   "source": [
    "def update_elves(\n",
    "    locations: Set[Tuple[Tuple[int, int], int]],\n",
    "    winds: Set[Tuple[Tuple[int, int], str]],\n",
    "    time: int,\n",
    ") -> Tuple[Set[Tuple[int, int]], Set[Tuple[Tuple[int, int], int]]]:\n",
    "    global walls, wall_bottom, wall_right, wall_left, wall_top\n",
    "    obstructions = set()\n",
    "    for wind in winds:\n",
    "        obstructions.add(wind[0])\n",
    "    obstructions = obstructions.union(walls)\n",
    "    new_locations = set()\n",
    "    new_locations_time = set()\n",
    "    for loc in locations:\n",
    "        if (loc[0][0] - 1 >= wall_top) and (\n",
    "            (loc[0][0] - 1, loc[0][1]) not in obstructions\n",
    "        ):\n",
    "            new_locations.add((loc[0][0] - 1, loc[0][1]))\n",
    "            new_locations_time.add(((loc[0][0] - 1, loc[0][1]), time))\n",
    "\n",
    "        if (loc[0][0] + 1 <= wall_bottom) and (\n",
    "            (loc[0][0] + 1, loc[0][1]) not in obstructions\n",
    "        ):\n",
    "            new_locations.add((loc[0][0] + 1, loc[0][1]))\n",
    "            new_locations_time.add(((loc[0][0] + 1, loc[0][1]), time))\n",
    "\n",
    "        if (loc[0][1] + 1 <= wall_right) and (\n",
    "            (loc[0][0], loc[0][1] + 1) not in obstructions\n",
    "        ):\n",
    "            new_locations.add((loc[0][0], loc[0][1] + 1))\n",
    "            new_locations_time.add(((loc[0][0], loc[0][1] + 1), time))\n",
    "\n",
    "        if (loc[0][1] - 1 <= wall_right) and (\n",
    "            (loc[0][0], loc[0][1] - 1) not in obstructions\n",
    "        ):\n",
    "            new_locations.add((loc[0][0], loc[0][1] - 1))\n",
    "            new_locations_time.add(((loc[0][0], loc[0][1] - 1), time))\n",
    "\n",
    "        if loc[0] not in obstructions:\n",
    "            new_locations.add(loc[0])\n",
    "            new_locations_time.add((loc[0], time))\n",
    "    return new_locations, new_locations_time\n"
   ]
  },
  {
   "cell_type": "code",
   "execution_count": 78,
   "metadata": {},
   "outputs": [
    {
     "name": "stdout",
     "output_type": "stream",
     "text": [
      "final time: 322\n"
     ]
    }
   ],
   "source": [
    "winds = set()\n",
    "walls = set()\n",
    "our_location = set()\n",
    "our_location_time = set()\n",
    "for i in range(len(valey)):\n",
    "    for j in range(len(valey[0])):\n",
    "        if valey[i][j] not in [\"#\",\"E\",\".\"]:\n",
    "            winds.add(((i,j),valey[i][j]))\n",
    "        elif valey[i][j] == \".\" and i == wall_top:\n",
    "            our_location.add((i,j))\n",
    "            our_location_time.add(((i,j),0))\n",
    "        elif valey[i][j] == \".\" and i == wall_bottom:\n",
    "            goal = (i,j)\n",
    "        elif valey[i][j] == \"#\":\n",
    "            walls.add((i,j))\n",
    "\n",
    "time = 0\n",
    "while goal not in our_location:\n",
    "    winds = update_wind_location(winds)\n",
    "    our_location, our_location_time = update_elves(our_location_time, winds, time)\n",
    "    time += 1\n",
    "print(f\"final time: {time}\")"
   ]
  },
  {
   "attachments": {},
   "cell_type": "markdown",
   "metadata": {},
   "source": [
    "# Part 2\n",
    "Only works after part 1"
   ]
  },
  {
   "cell_type": "code",
   "execution_count": 79,
   "metadata": {},
   "outputs": [
    {
     "name": "stdout",
     "output_type": "stream",
     "text": [
      "final time: 974\n"
     ]
    }
   ],
   "source": [
    "our_location = set()\n",
    "our_location_time = set()\n",
    "for i in range(len(valey)):\n",
    "    for j in range(len(valey[0])):\n",
    "        if valey[i][j] == \".\" and i == wall_bottom:\n",
    "            our_location.add((i,j))\n",
    "            our_location_time.add(((i,j),0))\n",
    "        elif valey[i][j] == \".\" and i == wall_top:\n",
    "            goal = (i,j)\n",
    "\n",
    "while goal not in our_location:\n",
    "    winds = update_wind_location(winds)\n",
    "    our_location, our_location_time = update_elves(our_location_time, winds, time)\n",
    "    time += 1\n",
    "\n",
    "our_location = set()\n",
    "our_location_time = set()\n",
    "for i in range(len(valey)):\n",
    "    for j in range(len(valey[0])):\n",
    "        if valey[i][j] == \".\" and i == wall_top:\n",
    "            our_location.add((i,j))\n",
    "            our_location_time.add(((i,j),0))\n",
    "        elif valey[i][j] == \".\" and i == wall_bottom:\n",
    "            goal = (i,j)\n",
    "            \n",
    "while goal not in our_location:\n",
    "    winds = update_wind_location(winds)\n",
    "    our_location, our_location_time = update_elves(our_location_time, winds, time)\n",
    "    time += 1\n",
    "print(f\"final time: {time}\")"
   ]
  },
  {
   "cell_type": "code",
   "execution_count": null,
   "metadata": {},
   "outputs": [],
   "source": []
  }
 ],
 "metadata": {
  "kernelspec": {
   "display_name": ".venv",
   "language": "python",
   "name": "python3"
  },
  "language_info": {
   "codemirror_mode": {
    "name": "ipython",
    "version": 3
   },
   "file_extension": ".py",
   "mimetype": "text/x-python",
   "name": "python",
   "nbconvert_exporter": "python",
   "pygments_lexer": "ipython3",
   "version": "3.10.9"
  },
  "orig_nbformat": 4,
  "vscode": {
   "interpreter": {
    "hash": "3cbafc3e6ec49d7f1b844a015ff2ccb4f1535378fea15f3dafaf305ac2d5214f"
   }
  }
 },
 "nbformat": 4,
 "nbformat_minor": 2
}
