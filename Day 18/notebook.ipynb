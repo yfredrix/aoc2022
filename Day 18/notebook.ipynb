{
 "cells": [
  {
   "cell_type": "code",
   "execution_count": 11,
   "metadata": {},
   "outputs": [],
   "source": [
    "from typing import List, Tuple"
   ]
  },
  {
   "cell_type": "code",
   "execution_count": 231,
   "metadata": {},
   "outputs": [],
   "source": [
    "with open(\"input.txt\") as file:\n",
    "    lava_locs = [tuple([int(j) for j in i.split(\",\")]) for i in file.read().split(\"\\n\")]"
   ]
  },
  {
   "cell_type": "code",
   "execution_count": 189,
   "metadata": {},
   "outputs": [],
   "source": [
    "lava_locs = [\n",
    "    tuple([int(j) for j in i.split(\",\")])\n",
    "    for i in \"\"\"2,2,2\n",
    "1,2,2\n",
    "3,2,2\n",
    "2,1,2\n",
    "2,3,2\n",
    "2,2,1\n",
    "2,2,3\n",
    "2,2,4\n",
    "2,2,6\n",
    "1,2,5\n",
    "3,2,5\n",
    "2,1,5\n",
    "2,3,5\"\"\".split(\n",
    "        \"\\n\"\n",
    "    )\n",
    "]\n"
   ]
  },
  {
   "attachments": {},
   "cell_type": "markdown",
   "metadata": {},
   "source": [
    "## Part 1"
   ]
  },
  {
   "cell_type": "code",
   "execution_count": 232,
   "metadata": {},
   "outputs": [],
   "source": [
    "def visible_sites(lava: Tuple[int], lava_locs: List[Tuple[int]]) -> int:\n",
    "    cube_check = []\n",
    "    for i in [-1, 1]:\n",
    "        cube_check.append((lava[0] + i, lava[1], lava[2]) in lava_locs)\n",
    "    for j in [-1, 1]:\n",
    "        cube_check.append((lava[0], lava[1] + j, lava[2]) in lava_locs)\n",
    "    for k in [-1, 1]:\n",
    "        cube_check.append((lava[0], lava[1], lava[2] + k) in lava_locs)\n",
    "\n",
    "    return 6 - sum(cube_check)\n"
   ]
  },
  {
   "cell_type": "code",
   "execution_count": 233,
   "metadata": {},
   "outputs": [],
   "source": [
    "surfaces = {}\n",
    "for lava in lava_locs:\n",
    "    surfaces[lava] = visible_sites(lava, lava_locs)"
   ]
  },
  {
   "cell_type": "code",
   "execution_count": 234,
   "metadata": {},
   "outputs": [
    {
     "data": {
      "text/plain": [
       "4504"
      ]
     },
     "execution_count": 234,
     "metadata": {},
     "output_type": "execute_result"
    }
   ],
   "source": [
    "sum(surfaces.values())"
   ]
  },
  {
   "attachments": {},
   "cell_type": "markdown",
   "metadata": {},
   "source": [
    "## Part 2"
   ]
  },
  {
   "cell_type": "code",
   "execution_count": 235,
   "metadata": {},
   "outputs": [],
   "source": [
    "x_min = min([lava[0] for lava in lava_locs])-1\n",
    "y_min = min([lava[1] for lava in lava_locs])-1\n",
    "z_min = min([lava[2] for lava in lava_locs])-1\n",
    "x_max = max([lava[0] for lava in lava_locs])+1\n",
    "y_max = max([lava[1] for lava in lava_locs])+1\n",
    "z_max = max([lava[2] for lava in lava_locs])+1\n"
   ]
  },
  {
   "cell_type": "code",
   "execution_count": 236,
   "metadata": {},
   "outputs": [],
   "source": [
    "def outside_air(lava: Tuple[int], lava_locs: List[Tuple[int]]) -> bool:\n",
    "    global outside_air_points\n",
    "    air_route = set()\n",
    "    lava_keys = [lava]\n",
    "    if lava not in lava_locs:\n",
    "        air_route.add(lava)\n",
    "    else:\n",
    "        return False\n",
    "    while lava_keys:\n",
    "        new_checks = []\n",
    "        \n",
    "        for lava_key in lava_keys:\n",
    "            if lava_key in outside_air_points:\n",
    "                outside_air_points = outside_air_points.union(air_route)\n",
    "                return True\n",
    "        \n",
    "            for i in [-1, 1]:\n",
    "                check_key = (lava_key[0] + i, lava_key[1], lava_key[2])\n",
    "                if check_key in air_route:\n",
    "                    continue\n",
    "                if check_key not in lava_locs:\n",
    "                    air_route.add(check_key)\n",
    "                    new_checks.append(check_key)\n",
    "        \n",
    "            for j in [-1, 1]:\n",
    "                check_key = (lava_key[0], lava_key[1] + j, lava_key[2])\n",
    "                if check_key in air_route:\n",
    "                    continue\n",
    "                if check_key not in lava_locs:\n",
    "                    air_route.add(check_key)\n",
    "                    new_checks.append(check_key)\n",
    "        \n",
    "            for k in [-1, 1]:\n",
    "                check_key = (lava_key[0], lava_key[1], lava_key[2] + k)\n",
    "                if check_key in air_route:\n",
    "                    continue\n",
    "                if check_key not in lava_locs:\n",
    "                    air_route.add(check_key)\n",
    "                    new_checks.append(check_key)\n",
    "        \n",
    "        lava_keys = new_checks.copy()\n",
    "\n",
    "        if any([x_min>i[0] for i in new_checks]) or any([x_max<i[0] for i in new_checks]):\n",
    "            outside_air_points = outside_air_points.union(air_route)\n",
    "            return True\n",
    "        \n",
    "        if any([y_min>i[1] for i in new_checks]) or any([y_max<i[1] for i in new_checks]):\n",
    "            outside_air_points = outside_air_points.union(air_route)\n",
    "            return True\n",
    "        \n",
    "        if any([z_min>i[2] for i in new_checks]) or any([z_max<i[2] for i in new_checks]):\n",
    "            outside_air_points = outside_air_points.union(air_route)\n",
    "            return True\n",
    "\n",
    "    return False"
   ]
  },
  {
   "cell_type": "code",
   "execution_count": 237,
   "metadata": {},
   "outputs": [],
   "source": [
    "def reachable_sites(lava: Tuple[int], lava_locs: List[Tuple[int]]) -> int:\n",
    "    cube_check = []\n",
    "    for i in [-1, 1]:\n",
    "        lava_key = (lava[0] + i, lava[1], lava[2])\n",
    "        if outside_air(lava_key, lava_locs):\n",
    "            cube_check.append(lava_key in lava_locs)\n",
    "        else:\n",
    "            cube_check.append(True)\n",
    "    for j in [-1, 1]:\n",
    "        lava_key = (lava[0], lava[1] + j, lava[2])\n",
    "        if outside_air(lava_key, lava_locs):\n",
    "            cube_check.append(lava_key in lava_locs)\n",
    "        else:\n",
    "            cube_check.append(True)\n",
    "    for k in [-1, 1]:\n",
    "        lava_key = (lava[0], lava[1], lava[2] + k)\n",
    "        if outside_air(lava_key, lava_locs):\n",
    "            cube_check.append(lava_key in lava_locs)\n",
    "        else:\n",
    "            cube_check.append(True)\n",
    "    return 6 - sum(cube_check)\n"
   ]
  },
  {
   "cell_type": "code",
   "execution_count": 238,
   "metadata": {},
   "outputs": [],
   "source": [
    "from tqdm import tqdm"
   ]
  },
  {
   "cell_type": "code",
   "execution_count": 239,
   "metadata": {},
   "outputs": [
    {
     "name": "stderr",
     "output_type": "stream",
     "text": [
      "100%|██████████| 2728/2728 [01:55<00:00, 23.71it/s]\n"
     ]
    }
   ],
   "source": [
    "outside_air_points = set()\n",
    "outer_surfaces = {}\n",
    "for lava in tqdm(lava_locs):\n",
    "    outer_surfaces[lava] = reachable_sites(lava, lava_locs)"
   ]
  },
  {
   "cell_type": "code",
   "execution_count": 240,
   "metadata": {},
   "outputs": [
    {
     "data": {
      "text/plain": [
       "2556"
      ]
     },
     "execution_count": 240,
     "metadata": {},
     "output_type": "execute_result"
    }
   ],
   "source": [
    "sum(outer_surfaces.values()) # Must be lower then 2589 and higher then 244"
   ]
  },
  {
   "cell_type": "code",
   "execution_count": null,
   "metadata": {},
   "outputs": [],
   "source": []
  }
 ],
 "metadata": {
  "kernelspec": {
   "display_name": ".venv",
   "language": "python",
   "name": "python3"
  },
  "language_info": {
   "codemirror_mode": {
    "name": "ipython",
    "version": 3
   },
   "file_extension": ".py",
   "mimetype": "text/x-python",
   "name": "python",
   "nbconvert_exporter": "python",
   "pygments_lexer": "ipython3",
   "version": "3.10.9"
  },
  "orig_nbformat": 4,
  "vscode": {
   "interpreter": {
    "hash": "014edb13ea8bca09f2ae5715b81f4455f7f2c2c94fc70679b76fd18cfda98626"
   }
  }
 },
 "nbformat": 4,
 "nbformat_minor": 2
}
