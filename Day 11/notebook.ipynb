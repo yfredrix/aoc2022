{
 "cells": [
  {
   "cell_type": "code",
   "execution_count": 102,
   "metadata": {},
   "outputs": [],
   "source": [
    "from yaml.loader import SafeLoader\n",
    "import yaml\n",
    "import parse\n",
    "from collections import Counter\n",
    "import math\n",
    "import nested_lookup\n",
    "from tqdm import tqdm"
   ]
  },
  {
   "attachments": {},
   "cell_type": "markdown",
   "metadata": {},
   "source": [
    "## Part 1"
   ]
  },
  {
   "cell_type": "code",
   "execution_count": 103,
   "metadata": {},
   "outputs": [],
   "source": [
    "with open(\"monkeys.yaml\") as file:\n",
    "    monkey_actions = yaml.load(file,Loader=SafeLoader)\n",
    "item_counter = Counter()"
   ]
  },
  {
   "cell_type": "code",
   "execution_count": 104,
   "metadata": {},
   "outputs": [],
   "source": [
    "def update_item_score(operation, old):\n",
    "    operation = operation.split(\"=\")[1]\n",
    "    new = eval(operation)\n",
    "    bored_monkey = new // 3\n",
    "    return bored_monkey"
   ]
  },
  {
   "cell_type": "code",
   "execution_count": 105,
   "metadata": {},
   "outputs": [],
   "source": [
    "def throwcondition(test_string, value):\n",
    "    divisionable_value = parse.parse(\"divisible by {}\", test_string)\n",
    "    return (value % int(divisionable_value[0])) == 0"
   ]
  },
  {
   "cell_type": "code",
   "execution_count": 106,
   "metadata": {},
   "outputs": [],
   "source": [
    "def find_next_monkey(action):\n",
    "    next_monkey = parse.parse(\"throw to monkey {}\", action)\n",
    "    return next_monkey[0]"
   ]
  },
  {
   "cell_type": "code",
   "execution_count": 33,
   "metadata": {
    "tags": [
     "parameters"
    ]
   },
   "outputs": [],
   "source": [
    "max_round = 20\n",
    "nr_monkeys = len(monkey_actions)"
   ]
  },
  {
   "cell_type": "code",
   "execution_count": 34,
   "metadata": {},
   "outputs": [
    {
     "name": "stderr",
     "output_type": "stream",
     "text": [
      "100%|██████████| 20/20 [00:00<00:00, 694.20it/s]\n"
     ]
    }
   ],
   "source": [
    "for actionround in tqdm(range(0,max_round)):\n",
    "    for monkey_nr in range(0, nr_monkeys):\n",
    "        monkey = monkey_actions[f\"Monkey {monkey_nr}\"]\n",
    "        for item in monkey['Starting items']:\n",
    "            item_counter[f\"Monkey {monkey_nr}\"] += 1\n",
    "            item_score = update_item_score(monkey['Operation'], item)\n",
    "            if throwcondition(monkey['Test'], item_score):\n",
    "                next_monkey = find_next_monkey(monkey[\"If true\"])\n",
    "                monkey_actions[f\"Monkey {next_monkey}\"][\"Starting items\"].append(item_score)\n",
    "            else:\n",
    "                next_monkey = find_next_monkey(monkey[\"If false\"])\n",
    "                monkey_actions[f\"Monkey {next_monkey}\"][\"Starting items\"].append(item_score)\n",
    "        monkey['Starting items'] = []"
   ]
  },
  {
   "cell_type": "code",
   "execution_count": 35,
   "metadata": {},
   "outputs": [
    {
     "data": {
      "text/plain": [
       "50616"
      ]
     },
     "execution_count": 35,
     "metadata": {},
     "output_type": "execute_result"
    }
   ],
   "source": [
    "math.prod([nr[1] for nr in item_counter.most_common(2)])"
   ]
  },
  {
   "cell_type": "code",
   "execution_count": 107,
   "metadata": {},
   "outputs": [
    {
     "data": {
      "text/plain": [
       "Counter()"
      ]
     },
     "execution_count": 107,
     "metadata": {},
     "output_type": "execute_result"
    }
   ],
   "source": [
    "item_counter"
   ]
  },
  {
   "attachments": {},
   "cell_type": "markdown",
   "metadata": {},
   "source": [
    "## Part 2"
   ]
  },
  {
   "cell_type": "code",
   "execution_count": 125,
   "metadata": {},
   "outputs": [],
   "source": [
    "def update_item_score(operation, old):\n",
    "    operation = operation.split(\"=\")[1]\n",
    "    new = eval(operation)\n",
    "    return new"
   ]
  },
  {
   "cell_type": "code",
   "execution_count": 133,
   "metadata": {},
   "outputs": [],
   "source": [
    "with open(\"monkeys.yaml\") as file:\n",
    "    monkey_actions = yaml.load(file,Loader=SafeLoader)\n",
    "item_counter = Counter()"
   ]
  },
  {
   "cell_type": "code",
   "execution_count": 134,
   "metadata": {
    "tags": [
     "parameters"
    ]
   },
   "outputs": [],
   "source": [
    "max_round = 10000\n",
    "nr_monkeys = len(monkey_actions)"
   ]
  },
  {
   "cell_type": "code",
   "execution_count": 135,
   "metadata": {},
   "outputs": [],
   "source": [
    "total_division = 1\n",
    "for monkey_nr in range(0, nr_monkeys):\n",
    "    monkey = monkey_actions[f\"Monkey {monkey_nr}\"]\n",
    "    monkey_div = parse.parse(\"divisible by {}\", monkey[\"Test\"])   \n",
    "    total_division *= int(monkey_div[0])\n",
    "    \n",
    "for monkey_nr in range(0, nr_monkeys):\n",
    "    monkey = monkey_actions[f\"Monkey {monkey_nr}\"]   \n",
    "    monkey[\"items\"] = []\n",
    "    for item in monkey['Starting items']:\n",
    "        monkey[\"items\"].append(item)\n"
   ]
  },
  {
   "cell_type": "code",
   "execution_count": 136,
   "metadata": {},
   "outputs": [
    {
     "name": "stderr",
     "output_type": "stream",
     "text": [
      "100%|██████████| 10000/10000 [00:39<00:00, 254.86it/s]\n"
     ]
    }
   ],
   "source": [
    "for actionround in tqdm(range(0,max_round)):\n",
    "    for monkey_nr in range(0, nr_monkeys):\n",
    "        monkey = monkey_actions[f\"Monkey {monkey_nr}\"]\n",
    "        for item in monkey['items']:\n",
    "            item_counter[f\"Monkey {monkey_nr}\"] += 1\n",
    "            item_score = update_item_score(monkey['Operation'], item)\n",
    "            item_score %= total_division\n",
    "            if throwcondition(monkey['Test'], item_score):\n",
    "                next_monkey = find_next_monkey(monkey[\"If true\"])\n",
    "                monkey_actions[f\"Monkey {next_monkey}\"][\"items\"].append(item_score)\n",
    "            else:\n",
    "                next_monkey = find_next_monkey(monkey[\"If false\"])\n",
    "                monkey_actions[f\"Monkey {next_monkey}\"][\"items\"].append(item_score)\n",
    "        monkey['items'] = []"
   ]
  },
  {
   "cell_type": "code",
   "execution_count": 137,
   "metadata": {},
   "outputs": [
    {
     "data": {
      "text/plain": [
       "11309046332"
      ]
     },
     "execution_count": 137,
     "metadata": {},
     "output_type": "execute_result"
    }
   ],
   "source": [
    "math.prod([nr[1] for nr in item_counter.most_common(2)])"
   ]
  },
  {
   "cell_type": "code",
   "execution_count": 138,
   "metadata": {},
   "outputs": [
    {
     "data": {
      "text/plain": [
       "[('Monkey 0', 106346), ('Monkey 4', 106342)]"
      ]
     },
     "execution_count": 138,
     "metadata": {},
     "output_type": "execute_result"
    }
   ],
   "source": [
    "item_counter.most_common(2)"
   ]
  },
  {
   "cell_type": "code",
   "execution_count": null,
   "metadata": {},
   "outputs": [],
   "source": []
  }
 ],
 "metadata": {
  "kernelspec": {
   "display_name": ".venv",
   "language": "python",
   "name": "python3"
  },
  "language_info": {
   "codemirror_mode": {
    "name": "ipython",
    "version": 3
   },
   "file_extension": ".py",
   "mimetype": "text/x-python",
   "name": "python",
   "nbconvert_exporter": "python",
   "pygments_lexer": "ipython3",
   "version": "3.10.9"
  },
  "orig_nbformat": 4,
  "vscode": {
   "interpreter": {
    "hash": "014edb13ea8bca09f2ae5715b81f4455f7f2c2c94fc70679b76fd18cfda98626"
   }
  }
 },
 "nbformat": 4,
 "nbformat_minor": 2
}
