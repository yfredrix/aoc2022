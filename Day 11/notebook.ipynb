{
 "cells": [
  {
   "cell_type": "code",
   "execution_count": 141,
   "metadata": {},
   "outputs": [],
   "source": [
    "from yaml.loader import SafeLoader\n",
    "import yaml\n",
    "import parse\n",
    "from collections import Counter\n",
    "import math\n",
    "import nested_lookup"
   ]
  },
  {
   "cell_type": "code",
   "execution_count": 142,
   "metadata": {},
   "outputs": [],
   "source": [
    "with open(\"monkeys.yaml\") as file:\n",
    "    monkey_actions = yaml.load(file,Loader=SafeLoader)\n",
    "item_counter = Counter()"
   ]
  },
  {
   "cell_type": "code",
   "execution_count": 143,
   "metadata": {},
   "outputs": [],
   "source": [
    "def update_item_score(operation, old):\n",
    "    operation = operation.split(\"=\")[1]\n",
    "    new = eval(operation)\n",
    "    # bored_monkey = new // 3\n",
    "    return new"
   ]
  },
  {
   "cell_type": "code",
   "execution_count": 144,
   "metadata": {},
   "outputs": [],
   "source": [
    "def throwcondition(test_string, value):\n",
    "    divisionable_value = parse.parse(\"divisible by {}\", test_string)\n",
    "    return (value % int(divisionable_value[0])) == 0"
   ]
  },
  {
   "cell_type": "code",
   "execution_count": 145,
   "metadata": {},
   "outputs": [],
   "source": [
    "def find_next_monkey(action):\n",
    "    next_monkey = parse.parse(\"throw to monkey {}\", action)\n",
    "    return next_monkey[0]"
   ]
  },
  {
   "cell_type": "code",
   "execution_count": 136,
   "metadata": {
    "tags": [
     "parameters"
    ]
   },
   "outputs": [],
   "source": [
    "max_round = 10000\n",
    "nr_monkeys = len(monkey_actions)"
   ]
  },
  {
   "cell_type": "code",
   "execution_count": 137,
   "metadata": {},
   "outputs": [],
   "source": [
    "for actionround in range(0,max_round):\n",
    "    for monkey_nr in range(0, nr_monkeys):\n",
    "        monkey = monkey_actions[f\"Monkey {monkey_nr}\"]\n",
    "        for item in monkey['Starting items']:\n",
    "            item_counter[f\"Monkey {monkey_nr}\"] += 1\n",
    "            item_score = update_item_score(monkey['Operation'], item)\n",
    "            if throwcondition(monkey['Test'], item_score):\n",
    "                next_monkey = find_next_monkey(monkey[\"If true\"])\n",
    "                monkey_actions[f\"Monkey {next_monkey}\"][\"Starting items\"].append(item_score)\n",
    "            else:\n",
    "                next_monkey = find_next_monkey(monkey[\"If false\"])\n",
    "                monkey_actions[f\"Monkey {next_monkey}\"][\"Starting items\"].append(item_score)\n",
    "        monkey['Starting items'] = []\n",
    "        # print(nested_lookup.nested_lookup('Starting items',monkey_actions))"
   ]
  },
  {
   "cell_type": "code",
   "execution_count": 138,
   "metadata": {},
   "outputs": [
    {
     "data": {
      "text/plain": [
       "50616"
      ]
     },
     "execution_count": 138,
     "metadata": {},
     "output_type": "execute_result"
    }
   ],
   "source": [
    "math.prod([nr[1] for nr in item_counter.most_common(2)])"
   ]
  },
  {
   "cell_type": "code",
   "execution_count": 139,
   "metadata": {},
   "outputs": [
    {
     "data": {
      "text/plain": [
       "Counter({'Monkey 0': 228,\n",
       "         'Monkey 1': 218,\n",
       "         'Monkey 2': 20,\n",
       "         'Monkey 3': 48,\n",
       "         'Monkey 4': 55,\n",
       "         'Monkey 5': 211,\n",
       "         'Monkey 6': 188,\n",
       "         'Monkey 7': 222})"
      ]
     },
     "execution_count": 139,
     "metadata": {},
     "output_type": "execute_result"
    }
   ],
   "source": [
    "item_counter"
   ]
  },
  {
   "cell_type": "code",
   "execution_count": null,
   "metadata": {},
   "outputs": [],
   "source": []
  }
 ],
 "metadata": {
  "kernelspec": {
   "display_name": ".venv",
   "language": "python",
   "name": "python3"
  },
  "language_info": {
   "codemirror_mode": {
    "name": "ipython",
    "version": 3
   },
   "file_extension": ".py",
   "mimetype": "text/x-python",
   "name": "python",
   "nbconvert_exporter": "python",
   "pygments_lexer": "ipython3",
   "version": "3.10.9"
  },
  "orig_nbformat": 4,
  "vscode": {
   "interpreter": {
    "hash": "3cbafc3e6ec49d7f1b844a015ff2ccb4f1535378fea15f3dafaf305ac2d5214f"
   }
  }
 },
 "nbformat": 4,
 "nbformat_minor": 2
}
