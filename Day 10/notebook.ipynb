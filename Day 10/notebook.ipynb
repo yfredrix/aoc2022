{
 "cells": [
  {
   "cell_type": "code",
   "execution_count": 50,
   "metadata": {},
   "outputs": [],
   "source": [
    "with open(\"input.txt\") as file:\n",
    "    cpu_instructions = file.read().split('\\n')"
   ]
  },
  {
   "cell_type": "code",
   "execution_count": 36,
   "metadata": {},
   "outputs": [],
   "source": [
    "cpu_instructions=\"\"\"addx 15\n",
    "addx -11\n",
    "addx 6\n",
    "addx -3\n",
    "addx 5\n",
    "addx -1\n",
    "addx -8\n",
    "addx 13\n",
    "addx 4\n",
    "noop\n",
    "addx -1\n",
    "addx 5\n",
    "addx -1\n",
    "addx 5\n",
    "addx -1\n",
    "addx 5\n",
    "addx -1\n",
    "addx 5\n",
    "addx -1\n",
    "addx -35\n",
    "addx 1\n",
    "addx 24\n",
    "addx -19\n",
    "addx 1\n",
    "addx 16\n",
    "addx -11\n",
    "noop\n",
    "noop\n",
    "addx 21\n",
    "addx -15\n",
    "noop\n",
    "noop\n",
    "addx -3\n",
    "addx 9\n",
    "addx 1\n",
    "addx -3\n",
    "addx 8\n",
    "addx 1\n",
    "addx 5\n",
    "noop\n",
    "noop\n",
    "noop\n",
    "noop\n",
    "noop\n",
    "addx -36\n",
    "noop\n",
    "addx 1\n",
    "addx 7\n",
    "noop\n",
    "noop\n",
    "noop\n",
    "addx 2\n",
    "addx 6\n",
    "noop\n",
    "noop\n",
    "noop\n",
    "noop\n",
    "noop\n",
    "addx 1\n",
    "noop\n",
    "noop\n",
    "addx 7\n",
    "addx 1\n",
    "noop\n",
    "addx -13\n",
    "addx 13\n",
    "addx 7\n",
    "noop\n",
    "addx 1\n",
    "addx -33\n",
    "noop\n",
    "noop\n",
    "noop\n",
    "addx 2\n",
    "noop\n",
    "noop\n",
    "noop\n",
    "addx 8\n",
    "noop\n",
    "addx -1\n",
    "addx 2\n",
    "addx 1\n",
    "noop\n",
    "addx 17\n",
    "addx -9\n",
    "addx 1\n",
    "addx 1\n",
    "addx -3\n",
    "addx 11\n",
    "noop\n",
    "noop\n",
    "addx 1\n",
    "noop\n",
    "addx 1\n",
    "noop\n",
    "noop\n",
    "addx -13\n",
    "addx -19\n",
    "addx 1\n",
    "addx 3\n",
    "addx 26\n",
    "addx -30\n",
    "addx 12\n",
    "addx -1\n",
    "addx 3\n",
    "addx 1\n",
    "noop\n",
    "noop\n",
    "noop\n",
    "addx -9\n",
    "addx 18\n",
    "addx 1\n",
    "addx 2\n",
    "noop\n",
    "noop\n",
    "addx 9\n",
    "noop\n",
    "noop\n",
    "noop\n",
    "addx -1\n",
    "addx 2\n",
    "addx -37\n",
    "addx 1\n",
    "addx 3\n",
    "noop\n",
    "addx 15\n",
    "addx -21\n",
    "addx 22\n",
    "addx -6\n",
    "addx 1\n",
    "noop\n",
    "addx 2\n",
    "addx 1\n",
    "noop\n",
    "addx -10\n",
    "noop\n",
    "noop\n",
    "addx 20\n",
    "addx 1\n",
    "addx 2\n",
    "addx 2\n",
    "addx -6\n",
    "addx -11\n",
    "noop\n",
    "noop\n",
    "noop\"\"\".split(\"\\n\")"
   ]
  },
  {
   "cell_type": "code",
   "execution_count": 51,
   "metadata": {},
   "outputs": [],
   "source": [
    "x=1\n",
    "cycles = 1\n",
    "instruction_index = 0\n",
    "cycle_values= list(range(20,260,40))\n",
    "x_values = {}\n",
    "\n",
    "for instruction in cpu_instructions:\n",
    "    cpu_instruction = instruction.split(\" \")\n",
    "    if len(cpu_instruction) == 1:\n",
    "        if cycles in cycle_values:\n",
    "            x_values[cycles] = x\n",
    "        cycles += 1\n",
    "        if cycles in cycle_values:\n",
    "            x_values[cycles] = x\n",
    "    else:\n",
    "        if cycles in cycle_values:\n",
    "            x_values[cycles] = x\n",
    "        cycles += 1\n",
    "        if cycles in cycle_values:\n",
    "            x_values[cycles] = x\n",
    "        value = int(cpu_instruction[1])\n",
    "        cycles += 1\n",
    "        if cycles in cycle_values:\n",
    "            x_values[cycles] = x\n",
    "        x += value"
   ]
  },
  {
   "cell_type": "code",
   "execution_count": 52,
   "metadata": {},
   "outputs": [
    {
     "data": {
      "text/plain": [
       "12520"
      ]
     },
     "execution_count": 52,
     "metadata": {},
     "output_type": "execute_result"
    }
   ],
   "source": [
    "sum([cycle*x_values[cycle] for cycle in x_values])"
   ]
  },
  {
   "cell_type": "code",
   "execution_count": 53,
   "metadata": {},
   "outputs": [
    {
     "data": {
      "text/plain": [
       "{20: 17, 60: 17, 100: 7, 140: 21, 180: 21, 220: 17}"
      ]
     },
     "execution_count": 53,
     "metadata": {},
     "output_type": "execute_result"
    }
   ],
   "source": [
    "x_values"
   ]
  },
  {
   "cell_type": "code",
   "execution_count": 54,
   "metadata": {},
   "outputs": [],
   "source": [
    "import numpy as np\n",
    "screen = np.zeros((6,40))"
   ]
  },
  {
   "cell_type": "code",
   "execution_count": 55,
   "metadata": {},
   "outputs": [],
   "source": [
    "def update_screen(cycle, position):\n",
    "    vertical_index = (cycle-1)//40\n",
    "    horizontal_index = (cycle-1)%40\n",
    "    if (position-horizontal_index) in [-1,0,1]:\n",
    "        screen[vertical_index][horizontal_index] = 255"
   ]
  },
  {
   "cell_type": "code",
   "execution_count": 56,
   "metadata": {},
   "outputs": [],
   "source": [
    "x=1\n",
    "cycles = 1\n",
    "instruction_index = 0\n",
    "cycle_values= list(range(20,260,40))\n",
    "x_values = {}\n",
    "\n",
    "for instruction in cpu_instructions:\n",
    "    cpu_instruction = instruction.split(\" \")\n",
    "    if len(cpu_instruction) == 1:\n",
    "        if cycles in cycle_values:\n",
    "            x_values[cycles] = x\n",
    "        update_screen(cycles, x)\n",
    "        cycles += 1\n",
    "        if cycles in cycle_values:\n",
    "            x_values[cycles] = x\n",
    "        update_screen(cycles, x)\n",
    "    else:\n",
    "        if cycles in cycle_values:\n",
    "            x_values[cycles] = x\n",
    "        update_screen(cycles, x)\n",
    "        cycles += 1\n",
    "        update_screen(cycles, x)\n",
    "        if cycles in cycle_values:\n",
    "            x_values[cycles] = x\n",
    "        value = int(cpu_instruction[1])\n",
    "        update_screen(cycles, x)\n",
    "        cycles += 1\n",
    "        if cycles in cycle_values:\n",
    "            x_values[cycles] = x\n",
    "        x += value"
   ]
  },
  {
   "cell_type": "code",
   "execution_count": 57,
   "metadata": {},
   "outputs": [],
   "source": [
    "import matplotlib.pyplot as plt"
   ]
  },
  {
   "cell_type": "code",
   "execution_count": 58,
   "metadata": {},
   "outputs": [
    {
     "data": {
      "text/plain": [
       "<matplotlib.image.AxesImage at 0x23fbeaa2410>"
      ]
     },
     "execution_count": 58,
     "metadata": {},
     "output_type": "execute_result"
    },
    {
     "data": {
      "image/png": "[encoded data removed]",
      "text/plain": [
       "<Figure size 640x480 with 1 Axes>"
      ]
     },
     "metadata": {},
     "output_type": "display_data"
    }
   ],
   "source": [
    "plt.imshow(screen)"
   ]
  },
  {
   "cell_type": "code",
   "execution_count": null,
   "metadata": {},
   "outputs": [],
   "source": []
  }
 ],
 "metadata": {
  "kernelspec": {
   "display_name": ".venv",
   "language": "python",
   "name": "python3"
  },
  "language_info": {
   "codemirror_mode": {
    "name": "ipython",
    "version": 3
   },
   "file_extension": ".py",
   "mimetype": "text/x-python",
   "name": "python",
   "nbconvert_exporter": "python",
   "pygments_lexer": "ipython3",
   "version": "3.10.9"
  },
  "orig_nbformat": 4,
  "vscode": {
   "interpreter": {
    "hash": "3cbafc3e6ec49d7f1b844a015ff2ccb4f1535378fea15f3dafaf305ac2d5214f"
   }
  }
 },
 "nbformat": 4,
 "nbformat_minor": 2
}
