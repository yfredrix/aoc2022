{
 "cells": [
  {
   "cell_type": "code",
   "execution_count": 428,
   "metadata": {},
   "outputs": [],
   "source": [
    "with open(\"input.txt\") as file:\n",
    "    rockscans = file.read().split(\"\\n\")"
   ]
  },
  {
   "cell_type": "code",
   "execution_count": 357,
   "metadata": {},
   "outputs": [],
   "source": [
    "rockscans = \"\"\"498,4 -> 498,6 -> 496,6\n",
    "503,4 -> 502,4 -> 502,9 -> 494,9\"\"\".split(\"\\n\")"
   ]
  },
  {
   "cell_type": "code",
   "execution_count": 429,
   "metadata": {},
   "outputs": [],
   "source": [
    "rockscans = [scan.split(' -> ') for scan in rockscans]\n",
    "rockscans = [[coord.split(',') for coord in scan] for scan in rockscans]"
   ]
  },
  {
   "cell_type": "code",
   "execution_count": 430,
   "metadata": {},
   "outputs": [],
   "source": [
    "import numpy as np"
   ]
  },
  {
   "cell_type": "code",
   "execution_count": 431,
   "metadata": {},
   "outputs": [],
   "source": [
    "rockscans_int = []\n",
    "min_x = 999\n",
    "max_x = 0\n",
    "min_y = 999\n",
    "max_y = 0\n",
    "for scanline in rockscans:\n",
    "    scanline_int = []\n",
    "    for coordscan in scanline:\n",
    "        coordscans_int = []\n",
    "        for coord in coordscan:\n",
    "            coordscans_int.append(int(coord))\n",
    "        if coordscans_int[0] < min_x:\n",
    "            min_x = coordscans_int[0]\n",
    "        if coordscans_int[0] > max_x:\n",
    "            max_x = coordscans_int[0]\n",
    "        if coordscans_int[1] < min_y:\n",
    "            min_y = coordscans_int[1]\n",
    "        if coordscans_int[1] > max_y:\n",
    "            max_y = coordscans_int[1]\n",
    "        scanline_int.append(coordscans_int[::-1])\n",
    "    rockscans_int.append(scanline_int)"
   ]
  },
  {
   "cell_type": "code",
   "execution_count": 384,
   "metadata": {},
   "outputs": [
    {
     "data": {
      "text/plain": [
       "(483, 537, 13, 165)"
      ]
     },
     "execution_count": 384,
     "metadata": {},
     "output_type": "execute_result"
    }
   ],
   "source": [
    "(min_x, max_x, min_y, max_y)"
   ]
  },
  {
   "cell_type": "code",
   "execution_count": 385,
   "metadata": {},
   "outputs": [
    {
     "data": {
      "text/plain": [
       "(54, 152)"
      ]
     },
     "execution_count": 385,
     "metadata": {},
     "output_type": "execute_result"
    }
   ],
   "source": [
    "(max_x-min_x, max_y-min_y)"
   ]
  },
  {
   "cell_type": "code",
   "execution_count": 386,
   "metadata": {},
   "outputs": [],
   "source": [
    "cave = np.zeros((max_y + 10, max_x - min_x + 3))"
   ]
  },
  {
   "cell_type": "code",
   "execution_count": 387,
   "metadata": {},
   "outputs": [
    {
     "data": {
      "text/plain": [
       "(175, 57)"
      ]
     },
     "execution_count": 387,
     "metadata": {},
     "output_type": "execute_result"
    }
   ],
   "source": [
    "cave.shape"
   ]
  },
  {
   "cell_type": "code",
   "execution_count": 388,
   "metadata": {},
   "outputs": [],
   "source": [
    "for scans in rockscans_int:\n",
    "    scanlength = len(scans)\n",
    "    for i in range(scanlength - 1):\n",
    "        rock_coordinates_start = scans[i]\n",
    "        rock_coordinates_stop = scans[i + 1]\n",
    "        if rock_coordinates_start[0] == rock_coordinates_stop[0]:\n",
    "            for j in range(abs(rock_coordinates_stop[1] - rock_coordinates_start[1])+1):\n",
    "                if rock_coordinates_start[1] > rock_coordinates_stop[1]:\n",
    "                    cave[\n",
    "                        (\n",
    "                            rock_coordinates_start[0],\n",
    "                            rock_coordinates_start[1] - j - min_x +1,\n",
    "                        )\n",
    "                    ] = 999\n",
    "                else:\n",
    "                    cave[\n",
    "                        (\n",
    "                            rock_coordinates_start[0],\n",
    "                            rock_coordinates_start[1] + j - min_x +1,\n",
    "                        )\n",
    "                    ] = 999\n",
    "        if rock_coordinates_start[1] == rock_coordinates_stop[1]:\n",
    "            for j in range(abs(rock_coordinates_stop[0] - rock_coordinates_start[0]) +1):\n",
    "                if rock_coordinates_start[0] > rock_coordinates_stop[0]:\n",
    "                    cave[\n",
    "                        (\n",
    "                            rock_coordinates_start[0] - j,\n",
    "                            rock_coordinates_start[1] - min_x +1,\n",
    "                        )\n",
    "                    ] = 999\n",
    "                else:\n",
    "                    cave[\n",
    "                        (\n",
    "                            rock_coordinates_start[0] + j,\n",
    "                            rock_coordinates_start[1] - min_x +1,\n",
    "                        )\n",
    "                    ] = 999\n"
   ]
  },
  {
   "cell_type": "code",
   "execution_count": 367,
   "metadata": {},
   "outputs": [
    {
     "data": {
      "text/plain": [
       "52"
      ]
     },
     "execution_count": 367,
     "metadata": {},
     "output_type": "execute_result"
    }
   ],
   "source": [
    "rock_coordinates_start[0]"
   ]
  },
  {
   "cell_type": "code",
   "execution_count": 389,
   "metadata": {},
   "outputs": [],
   "source": [
    "cave[(0, 500-min_x + 1)] = -999"
   ]
  },
  {
   "cell_type": "code",
   "execution_count": 390,
   "metadata": {},
   "outputs": [],
   "source": [
    "import matplotlib.pyplot as plt"
   ]
  },
  {
   "cell_type": "code",
   "execution_count": 391,
   "metadata": {},
   "outputs": [
    {
     "data": {
      "text/plain": [
       "<matplotlib.image.AxesImage at 0x1e848c95900>"
      ]
     },
     "execution_count": 391,
     "metadata": {},
     "output_type": "execute_result"
    },
    {
     "data": {
      "image/png": "[encoded data removed]",
      "text/plain": [
       "<Figure size 640x480 with 1 Axes>"
      ]
     },
     "metadata": {},
     "output_type": "display_data"
    }
   ],
   "source": [
    "plt.imshow(cave)"
   ]
  },
  {
   "cell_type": "code",
   "execution_count": 392,
   "metadata": {},
   "outputs": [],
   "source": [
    "sand_spawner = (np.where(cave==-999)[0][0], np.where(cave==-999)[1][0]) "
   ]
  },
  {
   "cell_type": "code",
   "execution_count": 393,
   "metadata": {},
   "outputs": [
    {
     "data": {
      "text/plain": [
       "(0, 18)"
      ]
     },
     "execution_count": 393,
     "metadata": {},
     "output_type": "execute_result"
    }
   ],
   "source": [
    "sand_spawner"
   ]
  },
  {
   "cell_type": "code",
   "execution_count": 432,
   "metadata": {},
   "outputs": [],
   "source": [
    "def move_sand(cave, sand_position):\n",
    "    not_hit = True\n",
    "    while not_hit:\n",
    "        if sand_position[1] <= 0 and sand_position[1] >= (max_x - min_x +2):\n",
    "            not_hit = False\n",
    "            end_of_grid = True\n",
    "        elif sand_position[0] >= max_y +5:\n",
    "            not_hit = False\n",
    "            end_of_grid = True\n",
    "        else:\n",
    "            # try to move down\n",
    "            if cave[(sand_position[0] + 1, sand_position[1])] ==0:\n",
    "                sand_position = (sand_position[0] + 1, sand_position[1])\n",
    "                not_hit = True\n",
    "            # try move to left\n",
    "            elif cave[(sand_position[0] + 1, sand_position[1] -1 )] ==0:\n",
    "                sand_position = (sand_position[0] + 1, sand_position[1] -1)\n",
    "                not_hit = True\n",
    "            # try move to right\n",
    "            elif cave[(sand_position[0] + 1, sand_position[1] +1 )] ==0:\n",
    "                sand_position = (sand_position[0] + 1, sand_position[1] +1)\n",
    "                not_hit = True\n",
    "            else:\n",
    "                not_hit = False\n",
    "                end_of_grid = False\n",
    "    return sand_position, end_of_grid"
   ]
  },
  {
   "cell_type": "code",
   "execution_count": 395,
   "metadata": {},
   "outputs": [],
   "source": [
    "reached_end = False\n",
    "iterations = 0\n",
    "while not reached_end and iterations <= 10000:\n",
    "    new_sand_position, end_of_grid = move_sand(cave, sand_spawner)\n",
    "    iterations += 1\n",
    "    reached_end = end_of_grid\n",
    "    if reached_end:\n",
    "        break\n",
    "    cave[new_sand_position] = -999"
   ]
  },
  {
   "cell_type": "code",
   "execution_count": 396,
   "metadata": {},
   "outputs": [
    {
     "data": {
      "text/plain": [
       "655"
      ]
     },
     "execution_count": 396,
     "metadata": {},
     "output_type": "execute_result"
    }
   ],
   "source": [
    "np.where(cave==-999)[0].shape[0] -1"
   ]
  },
  {
   "cell_type": "code",
   "execution_count": 397,
   "metadata": {},
   "outputs": [
    {
     "data": {
      "text/plain": [
       "<matplotlib.image.AxesImage at 0x1e848ce20e0>"
      ]
     },
     "execution_count": 397,
     "metadata": {},
     "output_type": "execute_result"
    },
    {
     "data": {
      "image/png": "[encoded data removed]",
      "text/plain": [
       "<Figure size 640x480 with 1 Axes>"
      ]
     },
     "metadata": {},
     "output_type": "display_data"
    }
   ],
   "source": [
    "plt.imshow(cave)"
   ]
  },
  {
   "cell_type": "code",
   "execution_count": null,
   "metadata": {},
   "outputs": [],
   "source": []
  },
  {
   "attachments": {},
   "cell_type": "markdown",
   "metadata": {},
   "source": [
    "## Part 2 Add a bottom"
   ]
  },
  {
   "cell_type": "code",
   "execution_count": 433,
   "metadata": {},
   "outputs": [],
   "source": [
    "min_x = min_x // 2\n",
    "max_x = max_x * 2\n"
   ]
  },
  {
   "cell_type": "code",
   "execution_count": 434,
   "metadata": {},
   "outputs": [],
   "source": [
    "cave = np.zeros((max_y + 4, max_x - min_x + 3))"
   ]
  },
  {
   "cell_type": "code",
   "execution_count": 435,
   "metadata": {},
   "outputs": [],
   "source": [
    "for scans in rockscans_int:\n",
    "    scanlength = len(scans)\n",
    "    for i in range(scanlength - 1):\n",
    "        rock_coordinates_start = scans[i]\n",
    "        rock_coordinates_stop = scans[i + 1]\n",
    "        if rock_coordinates_start[0] == rock_coordinates_stop[0]:\n",
    "            for j in range(abs(rock_coordinates_stop[1] - rock_coordinates_start[1])+1):\n",
    "                if rock_coordinates_start[1] > rock_coordinates_stop[1]:\n",
    "                    cave[\n",
    "                        (\n",
    "                            rock_coordinates_start[0],\n",
    "                            rock_coordinates_start[1] - j - min_x +1,\n",
    "                        )\n",
    "                    ] = 999\n",
    "                else:\n",
    "                    cave[\n",
    "                        (\n",
    "                            rock_coordinates_start[0],\n",
    "                            rock_coordinates_start[1] + j - min_x +1,\n",
    "                        )\n",
    "                    ] = 999\n",
    "        if rock_coordinates_start[1] == rock_coordinates_stop[1]:\n",
    "            for j in range(abs(rock_coordinates_stop[0] - rock_coordinates_start[0]) +1):\n",
    "                if rock_coordinates_start[0] > rock_coordinates_stop[0]:\n",
    "                    cave[\n",
    "                        (\n",
    "                            rock_coordinates_start[0] - j,\n",
    "                            rock_coordinates_start[1] - min_x +1,\n",
    "                        )\n",
    "                    ] = 999\n",
    "                else:\n",
    "                    cave[\n",
    "                        (\n",
    "                            rock_coordinates_start[0] + j,\n",
    "                            rock_coordinates_start[1] - min_x +1,\n",
    "                        )\n",
    "                    ] = 999"
   ]
  },
  {
   "cell_type": "code",
   "execution_count": 436,
   "metadata": {},
   "outputs": [],
   "source": [
    "for i in range(cave.shape[1]):\n",
    "    cave[(max_y + 2, i)] = 999"
   ]
  },
  {
   "cell_type": "code",
   "execution_count": 437,
   "metadata": {},
   "outputs": [
    {
     "data": {
      "text/plain": [
       "<matplotlib.image.AxesImage at 0x1e849342fe0>"
      ]
     },
     "execution_count": 437,
     "metadata": {},
     "output_type": "execute_result"
    },
    {
     "data": {
      "image/png": "[encoded data removed]",
      "text/plain": [
       "<Figure size 640x480 with 1 Axes>"
      ]
     },
     "metadata": {},
     "output_type": "display_data"
    }
   ],
   "source": [
    "plt.imshow(cave)"
   ]
  },
  {
   "cell_type": "code",
   "execution_count": 438,
   "metadata": {},
   "outputs": [],
   "source": [
    "# add sand spawner\n",
    "cave[(0, 500-min_x + 1)] = -999\n",
    "sand_spawner = (np.where(cave==-999)[0][0], np.where(cave==-999)[1][0]) "
   ]
  },
  {
   "cell_type": "code",
   "execution_count": 439,
   "metadata": {},
   "outputs": [
    {
     "data": {
      "text/plain": [
       "26484"
      ]
     },
     "execution_count": 439,
     "metadata": {},
     "output_type": "execute_result"
    }
   ],
   "source": [
    "reached_end = False\n",
    "iterations = 0\n",
    "while not reached_end and iterations <= 1000000:\n",
    "    new_sand_position, end_of_grid = move_sand(cave, sand_spawner)\n",
    "    iterations += 1\n",
    "    reached_end = end_of_grid\n",
    "    if reached_end:\n",
    "        break\n",
    "    cave[new_sand_position] = -999\n",
    "np.where(cave==-999)[0].shape[0]"
   ]
  },
  {
   "cell_type": "code",
   "execution_count": 440,
   "metadata": {},
   "outputs": [
    {
     "data": {
      "text/plain": [
       "<matplotlib.image.AxesImage at 0x1e8493a0dc0>"
      ]
     },
     "execution_count": 440,
     "metadata": {},
     "output_type": "execute_result"
    },
    {
     "data": {
      "image/png": "[encoded data removed]",
      "text/plain": [
       "<Figure size 640x480 with 1 Axes>"
      ]
     },
     "metadata": {},
     "output_type": "display_data"
    }
   ],
   "source": [
    "plt.imshow(cave)"
   ]
  },
  {
   "cell_type": "code",
   "execution_count": null,
   "metadata": {},
   "outputs": [],
   "source": []
  }
 ],
 "metadata": {
  "kernelspec": {
   "display_name": ".venv",
   "language": "python",
   "name": "python3"
  },
  "language_info": {
   "codemirror_mode": {
    "name": "ipython",
    "version": 3
   },
   "file_extension": ".py",
   "mimetype": "text/x-python",
   "name": "python",
   "nbconvert_exporter": "python",
   "pygments_lexer": "ipython3",
   "version": "3.10.9"
  },
  "orig_nbformat": 4,
  "vscode": {
   "interpreter": {
    "hash": "3cbafc3e6ec49d7f1b844a015ff2ccb4f1535378fea15f3dafaf305ac2d5214f"
   }
  }
 },
 "nbformat": 4,
 "nbformat_minor": 2
}
