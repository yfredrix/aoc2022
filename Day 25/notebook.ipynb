{
 "cells": [
  {
   "cell_type": "code",
   "execution_count": 1,
   "metadata": {},
   "outputs": [],
   "source": [
    "with open(\"input.txt\") as file:\n",
    "    fuel_snafu = file.read().split(\"\\n\")"
   ]
  },
  {
   "cell_type": "code",
   "execution_count": 18,
   "metadata": {},
   "outputs": [],
   "source": [
    "import math\n",
    "value_lookup = {\n",
    "    \"2\": 2,\n",
    "    \"1\": 1,\n",
    "    \"0\": 0,\n",
    "    \"-\": -1,\n",
    "    \"=\": -2,\n",
    "}\n",
    "\n",
    "\n",
    "def convert_snafu_to_dec(snafu_number: str) -> int:\n",
    "    nr = 0\n",
    "    for i in range(-1, -len(snafu_number)-1, -1):\n",
    "        nr += int(math.pow(5, abs(i) - 1) * value_lookup[snafu_number[i]])\n",
    "    return nr"
   ]
  },
  {
   "cell_type": "code",
   "execution_count": 48,
   "metadata": {},
   "outputs": [],
   "source": [
    "def convert_dec_to_snafu(decimal_number: int) -> str:\n",
    "    base5 = \"\"\n",
    "    while decimal_number:\n",
    "        base5 = str(decimal_number % 5) + base5\n",
    "        decimal_number //= 5\n",
    "    remainder = 0\n",
    "    snafu_number = \"\"\n",
    "    for i in range(-1, -len(base5)-1, -1):\n",
    "        current_decimal = int(base5[i]) + remainder\n",
    "        remainder = 0\n",
    "        if current_decimal == 3:\n",
    "            snafu_number = \"=\" + snafu_number\n",
    "            remainder = 1\n",
    "        elif current_decimal == 4:\n",
    "            snafu_number = \"-\" + snafu_number\n",
    "            remainder = 1\n",
    "        elif current_decimal == 5:\n",
    "            snafu_number = \"0\" + snafu_number\n",
    "            remainder = 1\n",
    "        else:\n",
    "            snafu_number = str(current_decimal) + snafu_number\n",
    "            remainder = 0\n",
    "    if remainder >0:\n",
    "        snafu_number = \"1\" + snafu_number\n",
    "    return snafu_number"
   ]
  },
  {
   "cell_type": "code",
   "execution_count": 46,
   "metadata": {},
   "outputs": [],
   "source": [
    "assert convert_snafu_to_dec(\"1=-0-2\") == 1747\n",
    "assert convert_snafu_to_dec(\"12111\") == 906\n",
    "assert convert_snafu_to_dec(\"2=0=\") == 198\n",
    "assert convert_snafu_to_dec(\"21\") == 11\n",
    "assert convert_snafu_to_dec(\"2=01\") == 201\n",
    "assert convert_snafu_to_dec(\"111\") == 31\n",
    "assert convert_snafu_to_dec(\"20012\") == 1257\n",
    "assert convert_snafu_to_dec(\"112\") == 32\n",
    "assert convert_snafu_to_dec(\"1=-1=\") == 353\n",
    "assert convert_snafu_to_dec(\"1-12\") == 107\n",
    "assert convert_snafu_to_dec(\"12\") == 7\n",
    "assert convert_snafu_to_dec(\"1=\") == 3\n",
    "assert convert_snafu_to_dec(\"122\") == 37\n"
   ]
  },
  {
   "cell_type": "code",
   "execution_count": 49,
   "metadata": {},
   "outputs": [],
   "source": [
    "assert \"1=-0-2\" == convert_dec_to_snafu(1747)\n",
    "assert \"12111\" == convert_dec_to_snafu(906)\n",
    "assert \"2=0=\" == convert_dec_to_snafu(198)\n",
    "assert \"21\" == convert_dec_to_snafu(11)\n",
    "assert \"2=01\" == convert_dec_to_snafu(201)\n",
    "assert \"111\" == convert_dec_to_snafu(31)\n",
    "assert \"20012\" == convert_dec_to_snafu(1257)\n",
    "assert \"112\" == convert_dec_to_snafu(32)\n",
    "assert \"1=-1=\" == convert_dec_to_snafu(353)\n",
    "assert \"1-12\" == convert_dec_to_snafu(107)\n",
    "assert \"12\" == convert_dec_to_snafu(7)\n",
    "assert \"1=\" == convert_dec_to_snafu(3)\n",
    "assert \"122\" == convert_dec_to_snafu(37)"
   ]
  },
  {
   "cell_type": "code",
   "execution_count": 51,
   "metadata": {},
   "outputs": [
    {
     "data": {
      "text/plain": [
       "'2-==10--=-0101==1201'"
      ]
     },
     "execution_count": 51,
     "metadata": {},
     "output_type": "execute_result"
    }
   ],
   "source": [
    "fuel_dec = []\n",
    "for fuel in fuel_snafu:\n",
    "    fuel_dec.append(convert_snafu_to_dec(fuel))\n",
    "snafu_fuel = convert_dec_to_snafu(sum(fuel_dec))\n",
    "snafu_fuel"
   ]
  },
  {
   "cell_type": "code",
   "execution_count": null,
   "metadata": {},
   "outputs": [],
   "source": []
  }
 ],
 "metadata": {
  "kernelspec": {
   "display_name": ".venv",
   "language": "python",
   "name": "python3"
  },
  "language_info": {
   "codemirror_mode": {
    "name": "ipython",
    "version": 3
   },
   "file_extension": ".py",
   "mimetype": "text/x-python",
   "name": "python",
   "nbconvert_exporter": "python",
   "pygments_lexer": "ipython3",
   "version": "3.10.9"
  },
  "orig_nbformat": 4,
  "vscode": {
   "interpreter": {
    "hash": "3cbafc3e6ec49d7f1b844a015ff2ccb4f1535378fea15f3dafaf305ac2d5214f"
   }
  }
 },
 "nbformat": 4,
 "nbformat_minor": 2
}
