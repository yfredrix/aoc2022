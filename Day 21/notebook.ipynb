{
 "cells": [
  {
   "cell_type": "code",
   "execution_count": 1,
   "metadata": {},
   "outputs": [],
   "source": [
    "from yaml.loader import SafeLoader\n",
    "import yaml\n",
    "import parse\n",
    "from collections import Counter\n",
    "import math\n",
    "import nested_lookup\n",
    "from tqdm import tqdm"
   ]
  },
  {
   "cell_type": "code",
   "execution_count": 16,
   "metadata": {},
   "outputs": [],
   "source": [
    "def parse_monkeys(monkey_dict):\n",
    "    for monkey in monkey_dict:\n",
    "        if isinstance(monkey_dict[monkey], int):\n",
    "            continue\n",
    "        else:\n",
    "            monkey_dict[monkey] = monkey_dict[monkey].split(' ')\n",
    "    return monkey_dict"
   ]
  },
  {
   "cell_type": "code",
   "execution_count": 21,
   "metadata": {},
   "outputs": [],
   "source": [
    "with open(\"monkeys.yaml\") as file:\n",
    "    monkey_counters = yaml.load(file,Loader=SafeLoader)\n",
    "monkey_counters = parse_monkeys(monkey_counters)"
   ]
  },
  {
   "cell_type": "code",
   "execution_count": 17,
   "metadata": {},
   "outputs": [],
   "source": [
    "with open(\"example.yaml\") as file:\n",
    "    monkey_counters = yaml.load(file,Loader=SafeLoader)\n",
    "monkey_counters = parse_monkeys(monkey_counters)"
   ]
  },
  {
   "attachments": {},
   "cell_type": "markdown",
   "metadata": {},
   "source": [
    "# Part 1"
   ]
  },
  {
   "cell_type": "code",
   "execution_count": 22,
   "metadata": {},
   "outputs": [],
   "source": [
    "def get_monkey_value(monkey):\n",
    "    if isinstance(monkey_counters[monkey], int):\n",
    "        return monkey_counters[monkey]\n",
    "    else:\n",
    "        return eval(str(get_monkey_value(monkey_counters[monkey][0])) + monkey_counters[monkey][1] + str(get_monkey_value(monkey_counters[monkey][2])))\n"
   ]
  },
  {
   "cell_type": "code",
   "execution_count": 23,
   "metadata": {},
   "outputs": [
    {
     "data": {
      "text/plain": [
       "160274622817992.0"
      ]
     },
     "execution_count": 23,
     "metadata": {},
     "output_type": "execute_result"
    }
   ],
   "source": [
    "get_monkey_value('root')"
   ]
  },
  {
   "attachments": {},
   "cell_type": "markdown",
   "metadata": {},
   "source": [
    "# Part 2"
   ]
  },
  {
   "cell_type": "code",
   "execution_count": 24,
   "metadata": {},
   "outputs": [],
   "source": [
    "monkeys_to_find = monkey_counters['root'][0::2]"
   ]
  },
  {
   "cell_type": "code",
   "execution_count": 25,
   "metadata": {},
   "outputs": [],
   "source": [
    "def get_monkey_value(monkey):\n",
    "    if isinstance(monkey_counters[monkey], int):\n",
    "        if monkey == \"humn\":\n",
    "            raise Exception\n",
    "        return monkey_counters[monkey]\n",
    "    else:\n",
    "        first_monkey = monkey_counters[monkey][0]\n",
    "        if first_monkey != \"humn\":\n",
    "            first_monkey_value = get_monkey_value(first_monkey)\n",
    "        else:\n",
    "            first_monkey_value = \"humn\"\n",
    "        second_monkey = monkey_counters[monkey][2]\n",
    "        if second_monkey != \"humn\":\n",
    "            second_monkey_value = get_monkey_value(second_monkey)\n",
    "        else:\n",
    "            second_monkey_value = \"humn\"\n",
    "        return f\"({str(first_monkey_value)}{monkey_counters[monkey][1]}{str(second_monkey_value)})\""
   ]
  },
  {
   "cell_type": "code",
   "execution_count": 26,
   "metadata": {},
   "outputs": [
    {
     "data": {
      "text/plain": [
       "['(((((3+5)*2)+(3*((4*(7*2))+11)))+((((((((6+1)*(5*19))*(((9*((17*((2*(5+2))-3))+(8*3)))+(((13+(9*2))+(4*(6*3)))*13))+(((3+10)*5)*(8*4))))*(2*(((((((((((2*((((((7*((11*3)-11))+(2*(3*2)))/2)*((3*3)-2))+((2+5)+4))+(((((3*2)+1)*((2*5)-3))+((11*(2*4))-11))+((3+4)+(6*(3*2))))))/2)*3)*(3*2))+((2*((((5*5)-(4*2))*5)-((8-2)*4)))*7))+(((9*3)+((2*(13*2))/2))*((3*(2*3))+((15+2)*11))))-(11*((11*((13*2)+((3*(5+2))-6)))-(2*((6+1)*3)))))-((3*13)*(((3*6)+5)+((7*2)*10))))*(5+((4*(10+3))*2)))*5)+(((((((9*(2*(14-3)))+((((18*5)+(2*11))+(((((20+(1+(5*2)))+2)*11)-(((2*4)*3)+7))+((11+(5*5))+7)))*5))*2)+(4*((4+(5*5))*2)))/2)*3)*(4*(17*4))))))-(((((((((2*((((4*(((((((((((((((((8+(2+7))*4)/4)*2)*20)+((((((((((((((6*(5*2))*(((3+4)*3)+2))/5)+((((((5*3)*13)+((5*(((((19*2)+3)-4)+(2*19))+(((((3*(3*2))+(3*5))+3)+1)*2)))+((((18+10)*((((2+((5*11)*3))*5)-(4*((2*(9+2))*2)))+(((2*(((((((3*((6+(3*(5+2)))+(5+((13*2)+3))))+((4+3)*8))-((1+12)*(2*3)))+(2*(((((2*5)+1)+2)*6)+((((2+((2*3)+2))*8)+(1+((14*(4*3))/6)))-(3*(5*2))))))+(((((((((10-3)*((14/2)*(3*3)))+(2*(((((((3*2)+3)*(3+((4*2)*5)))+((humn-(((2*((2*((((3*2)*2)+(17*2))/2))-(3*5)))/2)*(9-2)))*((15+5)*2)))+(((4+(5*3))+14)*3))/2)-(((((18-5)*5)+(2*((4*7)+9)))*2)+(5+((((5+2)+6)*2)*3))))))/5)+(((16+(13+18))+((((2*16)-9)+3)*16))*2))/3)-(((2*(3+14))-11)+(((((((((10+6)+(3*7))*5)+(((((5+2)*2)+1)*3)/3))/5)+((12+(8+2))/2))+(((3*(5+((5+9)/2)))+2)/2))+((7+4)+(18+1)))/2)))*2)+((2*(15+(((((3*3)*((2*7)/2))+(4*((2*(((8*10)/2)-(3+6)))-10)))-(((4*2)+11)+4))/2)))+(((5+9)-3)*13))))/2)-((((6*(((2*((5+2)+12))-5)/3))-4)/2)*((((7*3)+8)*2)/2))))-((((4*((5*(4*17))-(11+(4*(3*(((5+12)-5)/2))))))/4)+(16+((3+8)*(2*5))))+6))/7)))-2)*2)))/(4*2))-((((((7+(17*2))-10)+((5+2)*3))+(((20+2)+4)+1))*3)+((((5*(10-3))+(((2*((4*2)+(3*(4+3))))+(17-4))+((3*3)*4)))+1)+((5*5)*13))))*3))/2)+(((4*(10*2))+3)+((2*((12+(((4*(2*(2+15)))+(5*6))-(((2*4)+(((5+(3+(3*5)))*2)/2))-2)))*2))/4)))+(((2+((6*5)+(13+(4*4))))*3)+(8*10)))/9)-((2*(5*3))*(((5+1)+1)+4)))*(((9+((2*5)*2))*2)/2))-(((5+(((3*7)+16)*2))+(((((3+(2*5))+(2*3))*5)+8)+((2+9)+(7+10))))+(((3*((12*4)+(((2+9)*((4*4)+(2*3)))-19)))+((((3*((6+2)+((3*3)*5)))*2)/2)*(4+3)))/6)))*2)+((2*((17+4)+2))*2))/2))+(4*(((2+(3*7))+6)+((4*2)*5))))/5)-(((3+3)+2)*((3*3)*3)))*3)+(((10+((11+3)/2))+((2*((3*2)+1))*3))*3))/2)-((10*((4*(16+2))-((2*(((20-1)+3)/2))+1)))+((13*7)+(((5+2)*5)*11))))*2)-(((12+(16*4))*2)+(2*((3+4)*((2*((9+3)+(((7+16)*2)+1)))/2)))))/4)+((12+(((2*(2*((5+(2*3))+8)))/2)/2))*((3*(4*2))+(3+4)))))+(12*2))/4)-(((((7*6)+(((2*11)/2)+((4+((5+(2+4))+((((((1+(1+(2*3)))+((2+((13+1)*4))/2))*2)+(3*7))/5)+((3*3)*3))))-5)))+((2*(8*4))/2))+((((2*((5*((6*4)+5))/5))*2)+(((2*(((4*(5*2))-12)+3))+(((((5*6)*5)/2)+(((2*(3*2))*2)+(2+(3*3))))-5))*2))/3))*3)))+((8*(((15+10)-2)*2))+(((((2+15)+((2*12)-(2+5)))-(10+1))*5)*3)))*3)-(3*((2*(5+((5+4)*2)))+(3*(((((3+4)+1)+(5*3))+(5+2))+11)))))/(3*3))+(2+(13*3)))*14)-(3*(((((9*2)+4)-3)*3)+(((15-2)*3)+(2+(((((((11*2)/2)+12)-7)+13)*3)/3))))))/3))+((2*11)*(5*5)))+((5*((((2+(((4*7)/2)+3))+4)*2)/2))*5))/2))*3)',\n",
       " '((2*(((((((((14+((2*(16+7))+7))*5)*(5*3))+(4*(2*(((((14-4)+((17+2)+(4+7)))+(9+(4*11)))*(5*3))-((2*(2*4))+(2*(4+(2+((2*4)+((5+2)+(4*5)))))))))))*(2*((3*3)+4)))+((3*((((4*2)*3)+7)+(((2+(3*(3*3)))-4)+3)))*((((3*((4*(5*3))-(6+13)))+(7*2))*2)+((5*(2*13))+((7+3)+(9*3))))))*5)*11)+((6*7)*((((((16-3)*(5+(2*12)))*2)+(((7*3)+5)+((7*4)/4)))*(((10+(3*(3*3)))+((((((13+4)*3)+((4*2)*(5+2)))+(((2*((((2*7)/2)-1)+5))*2)-11))/2)+(3*(3*(3*3)))))/4))+(((2+(((5+(7*2))+(5+(((3+((4+3)*2))*2)/2)))*2))+((((2*3)*2)*17)+((((((2*3)+1)*2)+1)+((6+5)*2))+(10*(4+3)))))*(10*(2*((2*((3+(2+8))+16))/2))))))))*((3*3)*((((3*2)*((((4+((2*3)+1))*((((2*((((3+6)+(((2+5)*3)-4))+(6+(5*11)))/3))+((2+(1+6))*3))+((3*(4*2))*((4+3)*6)))-(9*((2+5)*4))))+(((7*5)*((((2*5)+(3*3))*2)*2))+((((((2+17)*7)+(3*(((2*(2*(8+(((3+((15-1)+5))/2)*3))))/4)+(8*(3+3)))))+(3*(11+8)))-(((3*2)+1)*14))*3)))+(((9+2)*((8*(9-2))-((2*(2*(1+(((7+1)-2)*2))))/4)))*((4+4)+3))))/2)+((((2*(18+(3+20)))+(5*5))*((((5+12)*2)+((3*5)*2))+(((((2+(10+1))*2)+((((2*(9+4))+5)+3)/2))*2)/2)))*2))))']"
      ]
     },
     "execution_count": 26,
     "metadata": {},
     "output_type": "execute_result"
    }
   ],
   "source": [
    "monkey_results = [get_monkey_value(monkey) for monkey in monkeys_to_find]\n",
    "monkey_results"
   ]
  },
  {
   "cell_type": "code",
   "execution_count": 27,
   "metadata": {},
   "outputs": [],
   "source": [
    "from sympy.solvers import solve\n",
    "\n",
    "from sympy import Symbol"
   ]
  },
  {
   "cell_type": "code",
   "execution_count": 28,
   "metadata": {},
   "outputs": [],
   "source": [
    "h = Symbol('humn')"
   ]
  },
  {
   "cell_type": "code",
   "execution_count": 29,
   "metadata": {},
   "outputs": [
    {
     "data": {
      "text/plain": [
       "[3087390115721]"
      ]
     },
     "execution_count": 29,
     "metadata": {},
     "output_type": "execute_result"
    }
   ],
   "source": [
    "human_value = solve('-'.join(monkey_results), h)\n",
    "human_value"
   ]
  },
  {
   "cell_type": "code",
   "execution_count": null,
   "metadata": {},
   "outputs": [],
   "source": []
  }
 ],
 "metadata": {
  "kernelspec": {
   "display_name": ".venv",
   "language": "python",
   "name": "python3"
  },
  "language_info": {
   "codemirror_mode": {
    "name": "ipython",
    "version": 3
   },
   "file_extension": ".py",
   "mimetype": "text/x-python",
   "name": "python",
   "nbconvert_exporter": "python",
   "pygments_lexer": "ipython3",
   "version": "3.10.9"
  },
  "orig_nbformat": 4,
  "vscode": {
   "interpreter": {
    "hash": "014edb13ea8bca09f2ae5715b81f4455f7f2c2c94fc70679b76fd18cfda98626"
   }
  }
 },
 "nbformat": 4,
 "nbformat_minor": 2
}
