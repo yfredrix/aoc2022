{
 "cells": [
  {
   "cell_type": "code",
   "execution_count": 1,
   "metadata": {},
   "outputs": [],
   "source": [
    "with open(\"input.txt\") as file:\n",
    "    data = file.read().split(\"\\n\")\n"
   ]
  },
  {
   "cell_type": "code",
   "execution_count": 4,
   "metadata": {},
   "outputs": [],
   "source": [
    "from itertools import groupby"
   ]
  },
  {
   "cell_type": "code",
   "execution_count": 6,
   "metadata": {},
   "outputs": [],
   "source": [
    "board_instructions = [list(sub) for ele, sub in groupby(data, key=bool) if ele]"
   ]
  },
  {
   "cell_type": "code",
   "execution_count": 8,
   "metadata": {},
   "outputs": [],
   "source": [
    "board = board_instructions[0]\n",
    "instructions = board_instructions[1]"
   ]
  },
  {
   "cell_type": "code",
   "execution_count": 19,
   "metadata": {},
   "outputs": [],
   "source": [
    "with open(\"board.txt\", \"w+\") as file:\n",
    "    file.writelines(board)"
   ]
  },
  {
   "cell_type": "code",
   "execution_count": 14,
   "metadata": {},
   "outputs": [],
   "source": [
    "import pandas as pd"
   ]
  },
  {
   "cell_type": "code",
   "execution_count": 193,
   "metadata": {},
   "outputs": [],
   "source": [
    "stacks = pd.read_csv(\"board.txt\", sep=\"|\").to_dict(orient=\"list\")"
   ]
  },
  {
   "cell_type": "code",
   "execution_count": 194,
   "metadata": {},
   "outputs": [],
   "source": [
    "for stack in stacks:\n",
    "    stacks[stack] = [blocks for blocks in stacks[stack] if blocks != \" \"]"
   ]
  },
  {
   "cell_type": "code",
   "execution_count": 195,
   "metadata": {},
   "outputs": [
    {
     "data": {
      "text/plain": [
       "{'1': ['N', 'Q', 'L', 'S', 'C', 'Z', 'P', 'T'],\n",
       " '2': ['G', 'C', 'H', 'V', 'T', 'P', 'L'],\n",
       " '3': ['F', 'Z', 'C', 'D'],\n",
       " '4': ['C', 'V', 'M', 'L', 'D', 'T', 'W', 'G'],\n",
       " '5': ['C', 'W', 'P'],\n",
       " '6': ['Z', 'S', 'T', 'C', 'D', 'J', 'F', 'P'],\n",
       " '7': ['D', 'B', 'G', 'W', 'V'],\n",
       " '8': ['W', 'H', 'Q', 'S', 'J', 'N'],\n",
       " '9': ['V', 'L', 'S', 'F', 'Q', 'C', 'R']}"
      ]
     },
     "execution_count": 195,
     "metadata": {},
     "output_type": "execute_result"
    }
   ],
   "source": [
    "stacks"
   ]
  },
  {
   "cell_type": "code",
   "execution_count": 178,
   "metadata": {},
   "outputs": [
    {
     "data": {
      "text/plain": [
       "{'1': ['P', 'T', 'V', 'H', 'C', 'G', 'N', 'Q', 'L', 'S', 'C', 'Z', 'P', 'T'],\n",
       " '2': ['L'],\n",
       " '3': ['F', 'Z', 'C', 'D'],\n",
       " '4': ['C', 'V', 'M', 'L', 'D', 'T', 'W', 'G'],\n",
       " '5': ['C', 'W', 'P'],\n",
       " '6': ['Z', 'S', 'T', 'C', 'D', 'J', 'F', 'P'],\n",
       " '7': ['D', 'B', 'G', 'W', 'V'],\n",
       " '8': ['W', 'H', 'Q', 'S', 'J', 'N'],\n",
       " '9': ['V', 'L', 'S', 'F', 'Q', 'C', 'R']}"
      ]
     },
     "execution_count": 178,
     "metadata": {},
     "output_type": "execute_result"
    }
   ],
   "source": [
    "stacks"
   ]
  },
  {
   "cell_type": "code",
   "execution_count": 42,
   "metadata": {},
   "outputs": [],
   "source": [
    "from parse import *"
   ]
  },
  {
   "cell_type": "code",
   "execution_count": 152,
   "metadata": {},
   "outputs": [
    {
     "data": {
      "text/plain": [
       "'move 6 from 2 to 1'"
      ]
     },
     "execution_count": 152,
     "metadata": {},
     "output_type": "execute_result"
    }
   ],
   "source": [
    "instructions[0]"
   ]
  },
  {
   "cell_type": "code",
   "execution_count": 182,
   "metadata": {},
   "outputs": [],
   "source": [
    "def get_actions(instruction):\n",
    "    actionables = parse(\"move {} from {} to {}\", instruction)\n",
    "    move_blocks = actionables[0]\n",
    "    from_stack = actionables[1]\n",
    "    to_stack = actionables[2]\n",
    "    return move_blocks, from_stack, to_stack\n",
    "\n",
    "def update_stacks(stacks, move_blocks, from_stack, to_stack):\n",
    "    print(move_blocks, from_stack, to_stack)\n",
    "    blocks_to_move = stacks[from_stack][:int(move_blocks)][::-1]\n",
    "    stacks[from_stack] = stacks[from_stack][int(move_blocks):]\n",
    "    print(blocks_to_move)\n",
    "    stacks[to_stack] = blocks_to_move + stacks[to_stack]\n",
    "    return stacks"
   ]
  },
  {
   "cell_type": "code",
   "execution_count": 196,
   "metadata": {},
   "outputs": [],
   "source": [
    "for instruction in instructions:\n",
    "    stacks = update_stacks_9001(stacks, *get_actions(instruction))"
   ]
  },
  {
   "cell_type": "code",
   "execution_count": 49,
   "metadata": {},
   "outputs": [
    {
     "ename": "NameError",
     "evalue": "name 'from_stack' is not defined",
     "output_type": "error",
     "traceback": [
      "\u001b[1;31m---------------------------------------------------------------------------\u001b[0m",
      "\u001b[1;31mNameError\u001b[0m                                 Traceback (most recent call last)",
      "Cell \u001b[1;32mIn[49], line 1\u001b[0m\n\u001b[1;32m----> 1\u001b[0m blocks_to_move \u001b[39m=\u001b[39m \u001b[39mreversed\u001b[39m(stacks[from_stack][:move_blocks])\n",
      "\u001b[1;31mNameError\u001b[0m: name 'from_stack' is not defined"
     ]
    }
   ],
   "source": [
    "blocks_to_move = reversed(stacks[from_stack][:move_blocks])"
   ]
  },
  {
   "cell_type": "code",
   "execution_count": 51,
   "metadata": {},
   "outputs": [],
   "source": [
    "move_blocks, from_stack, to_stack = get_actions(instruction)"
   ]
  },
  {
   "cell_type": "code",
   "execution_count": 197,
   "metadata": {},
   "outputs": [],
   "source": [
    "top_blocks = [stacks[stack][0] for stack in stacks]"
   ]
  },
  {
   "cell_type": "code",
   "execution_count": 198,
   "metadata": {},
   "outputs": [
    {
     "data": {
      "text/plain": [
       "'DCVTCVPCL'"
      ]
     },
     "execution_count": 198,
     "metadata": {},
     "output_type": "execute_result"
    }
   ],
   "source": [
    "''.join(top_blocks)"
   ]
  },
  {
   "cell_type": "code",
   "execution_count": 186,
   "metadata": {},
   "outputs": [],
   "source": [
    "def get_actions(instruction):\n",
    "    actionables = parse(\"move {} from {} to {}\", instruction)\n",
    "    move_blocks = actionables[0]\n",
    "    from_stack = actionables[1]\n",
    "    to_stack = actionables[2]\n",
    "    return move_blocks, from_stack, to_stack\n",
    "\n",
    "def update_stacks_9001(stacks, move_blocks, from_stack, to_stack):\n",
    "    # print(move_blocks, from_stack, to_stack)\n",
    "    blocks_to_move = stacks[from_stack][:int(move_blocks)]\n",
    "    stacks[from_stack] = stacks[from_stack][int(move_blocks):]\n",
    "    # print(blocks_to_move)\n",
    "    stacks[to_stack] = blocks_to_move + stacks[to_stack]\n",
    "    return stacks"
   ]
  },
  {
   "cell_type": "code",
   "execution_count": null,
   "metadata": {},
   "outputs": [],
   "source": []
  }
 ],
 "metadata": {
  "kernelspec": {
   "display_name": "Python 3.8.10 ('.venv': venv)",
   "language": "python",
   "name": "python3"
  },
  "language_info": {
   "codemirror_mode": {
    "name": "ipython",
    "version": 3
   },
   "file_extension": ".py",
   "mimetype": "text/x-python",
   "name": "python",
   "nbconvert_exporter": "python",
   "pygments_lexer": "ipython3",
   "version": "3.8.10"
  },
  "orig_nbformat": 4,
  "vscode": {
   "interpreter": {
    "hash": "3cbafc3e6ec49d7f1b844a015ff2ccb4f1535378fea15f3dafaf305ac2d5214f"
   }
  }
 },
 "nbformat": 4,
 "nbformat_minor": 2
}
