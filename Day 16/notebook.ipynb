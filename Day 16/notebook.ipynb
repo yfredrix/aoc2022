{
 "cells": [
  {
   "cell_type": "code",
   "execution_count": 77,
   "metadata": {},
   "outputs": [],
   "source": [
    "with open(\"input.txt\") as file:\n",
    "    valve_information = file.read().split(\"\\n\")"
   ]
  },
  {
   "cell_type": "code",
   "execution_count": 66,
   "metadata": {},
   "outputs": [],
   "source": [
    "valve_information = \"\"\"Valve AA has flow rate=0; tunnels lead to valves DD, II, BB\n",
    "Valve BB has flow rate=13; tunnels lead to valves CC, AA\n",
    "Valve CC has flow rate=2; tunnels lead to valves DD, BB\n",
    "Valve DD has flow rate=20; tunnels lead to valves CC, AA, EE\n",
    "Valve EE has flow rate=3; tunnels lead to valves FF, DD\n",
    "Valve FF has flow rate=0; tunnels lead to valves EE, GG\n",
    "Valve GG has flow rate=0; tunnels lead to valves FF, HH\n",
    "Valve HH has flow rate=22; tunnel leads to valve GG\n",
    "Valve II has flow rate=0; tunnels lead to valves AA, JJ\n",
    "Valve JJ has flow rate=21; tunnel leads to valve II\"\"\".split(\"\\n\")"
   ]
  },
  {
   "cell_type": "code",
   "execution_count": 78,
   "metadata": {},
   "outputs": [],
   "source": [
    "import parse"
   ]
  },
  {
   "cell_type": "code",
   "execution_count": 79,
   "metadata": {},
   "outputs": [],
   "source": [
    "def parse_valves(valve_information):\n",
    "    information = parse.parse(\"Valve {} has flow rate={}; tunnels lead to valves {}\", valve_information)\n",
    "    if information is None:\n",
    "        information = parse.parse(\"Valve {} has flow rate={}; tunnel leads to valve {}\", valve_information)\n",
    "    tunnels = [tunnel.strip() for tunnel in information[2].split(\",\")]\n",
    "    return {information[0]:{\"flow_rate\": int(information[1]), \"tunnels\":tunnels}}"
   ]
  },
  {
   "cell_type": "code",
   "execution_count": 81,
   "metadata": {},
   "outputs": [],
   "source": [
    "all_valves = {}\n",
    "for valve in valve_information:\n",
    "    all_valves |= parse_valves(valve)"
   ]
  },
  {
   "cell_type": "code",
   "execution_count": 84,
   "metadata": {},
   "outputs": [
    {
     "data": {
      "text/plain": [
       "15"
      ]
     },
     "execution_count": 84,
     "metadata": {},
     "output_type": "execute_result"
    }
   ],
   "source": [
    "valve_i = 0\n",
    "for valve in all_valves:\n",
    "    flow_rate = all_valves[valve][\"flow_rate\"]\n",
    "    if flow_rate > 0:\n",
    "        valve_i += 1\n",
    "valve_i"
   ]
  },
  {
   "cell_type": "code",
   "execution_count": 70,
   "metadata": {},
   "outputs": [],
   "source": [
    "def calculate_pressure_loss(valves):\n",
    "    pressure_per_minute = 0\n",
    "    total_presure_loss = 0\n",
    "    current_valve = \"AA\"\n",
    "    for i in range(30):\n",
    "        total_presure_loss += pressure_per_minute\n",
    "        if valves[current_valve][\"flow_rate\"] > 0:\n",
    "            pressure_per_minute += valves[current_valve][\"flow_rate\"]\n",
    "        else:\n",
    "            possible_flow_rates = []\n",
    "            for actions in valves[current_valve][\"tunnels\"]:\n",
    "                possible_flow_rates.append(valves[actions][\"flow_rate\"])\n",
    "            current_valve = valves[current_valve][\"tunnels\"][possible_flow_rates.index(max(possible_flow_rates))]\n",
    "    return total_presure_loss"
   ]
  },
  {
   "cell_type": "code",
   "execution_count": 71,
   "metadata": {},
   "outputs": [
    {
     "data": {
      "text/plain": [
       "8120"
      ]
     },
     "execution_count": 71,
     "metadata": {},
     "output_type": "execute_result"
    }
   ],
   "source": [
    "calculate_pressure_loss(all_valves)"
   ]
  },
  {
   "cell_type": "code",
   "execution_count": 72,
   "metadata": {},
   "outputs": [],
   "source": [
    "import networkx as nx"
   ]
  },
  {
   "cell_type": "code",
   "execution_count": 73,
   "metadata": {},
   "outputs": [],
   "source": [
    "G = nx.Graph()"
   ]
  },
  {
   "cell_type": "code",
   "execution_count": 74,
   "metadata": {},
   "outputs": [],
   "source": [
    "for node in all_valves:\n",
    "    G.add_node(\n",
    "        node,\n",
    "        current_flowrate=0,\n",
    "        opened=0,\n",
    "        max_flowrate=all_valves[node][\"flow_rate\"],\n",
    "        time_taken=1,\n",
    "    )\n"
   ]
  },
  {
   "cell_type": "code",
   "execution_count": 75,
   "metadata": {},
   "outputs": [],
   "source": [
    "for node in all_valves:\n",
    "    for end_node in all_valves[node][\"tunnels\"]:\n",
    "        G.add_edge(node, end_node, time_taken=1)"
   ]
  },
  {
   "cell_type": "code",
   "execution_count": 76,
   "metadata": {},
   "outputs": [
    {
     "data": {
      "image/png": "[encoded data removed]",
      "text/plain": [
       "<Figure size 640x480 with 1 Axes>"
      ]
     },
     "metadata": {},
     "output_type": "display_data"
    }
   ],
   "source": [
    "nx.draw(G)"
   ]
  },
  {
   "cell_type": "code",
   "execution_count": null,
   "metadata": {},
   "outputs": [],
   "source": []
  }
 ],
 "metadata": {
  "kernelspec": {
   "display_name": ".venv",
   "language": "python",
   "name": "python3"
  },
  "language_info": {
   "codemirror_mode": {
    "name": "ipython",
    "version": 3
   },
   "file_extension": ".py",
   "mimetype": "text/x-python",
   "name": "python",
   "nbconvert_exporter": "python",
   "pygments_lexer": "ipython3",
   "version": "3.10.9"
  },
  "orig_nbformat": 4,
  "vscode": {
   "interpreter": {
    "hash": "3cbafc3e6ec49d7f1b844a015ff2ccb4f1535378fea15f3dafaf305ac2d5214f"
   }
  }
 },
 "nbformat": 4,
 "nbformat_minor": 2
}
