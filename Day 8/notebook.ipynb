{
 "cells": [
  {
   "cell_type": "code",
   "execution_count": 8,
   "metadata": {},
   "outputs": [],
   "source": [
    "with open(\"input.txt\") as file:\n",
    "    tree_lines = file.read().splitlines()\n",
    "    treegrid = []\n",
    "    for tree_line in tree_lines:\n",
    "        treegrid.append([int(x) for x in tree_line])"
   ]
  },
  {
   "cell_type": "code",
   "execution_count": 10,
   "metadata": {},
   "outputs": [],
   "source": [
    "visible_trees = set()"
   ]
  },
  {
   "cell_type": "code",
   "execution_count": 12,
   "metadata": {},
   "outputs": [],
   "source": [
    "# Horizontal vissibility checks\n",
    "for y, line in enumerate(treegrid):\n",
    "    highest = -1\n",
    "    # Left to right\n",
    "    for x, item in enumerate(line):\n",
    "        if item > highest:\n",
    "            highest = item\n",
    "            visible_trees.add(tuple((y, x)))\n",
    "            \n",
    "    highest = -1\n",
    "    # Right to left\n",
    "    for x in range(len(line)):\n",
    "        x_n = len(line) - x - 1\n",
    "        if line[x_n] > highest:\n",
    "            highest = line[x_n]\n",
    "            visible_trees.add(tuple((y, x_n)))\n",
    "\n",
    "# Vertical vissibiltiy checks\n",
    "for x in range(len(treegrid[0])):\n",
    "    highest = -1\n",
    "    # Top to bottom check\n",
    "    for y in range(len(treegrid)):\n",
    "        if treegrid[y][x] > highest:\n",
    "            highest = treegrid[y][x]\n",
    "            visible_trees.add(tuple((y, x)))\n",
    "            \n",
    "    highest = -1\n",
    "    # Bottom to top check\n",
    "    for y in range(len(treegrid)):\n",
    "        y_n  = len(treegrid) - y - 1\n",
    "        if treegrid[y_n][x] > highest:\n",
    "            highest = treegrid[y_n][x]\n",
    "            visible_trees.add(tuple((y_n, x)))"
   ]
  },
  {
   "cell_type": "code",
   "execution_count": 14,
   "metadata": {},
   "outputs": [
    {
     "data": {
      "text/plain": [
       "1787"
      ]
     },
     "execution_count": 14,
     "metadata": {},
     "output_type": "execute_result"
    }
   ],
   "source": [
    "len(visible_trees)"
   ]
  },
  {
   "cell_type": "code",
   "execution_count": 15,
   "metadata": {},
   "outputs": [],
   "source": [
    "import math\n",
    "\n",
    "def get_scenic_score(x: int, y: int) -> int:\n",
    "    height = treegrid[y][x]\n",
    "    res = []\n",
    "\n",
    "    for i in range(x + 1, len(treegrid[0])):\n",
    "        if treegrid[y][i] >= height:\n",
    "            res.append(i - x)\n",
    "            break\n",
    "    if len(res) == 0:\n",
    "        res.append(len(treegrid[0]) -x -1)\n",
    "\n",
    "    for i in range(x - 1, -1, -1):\n",
    "        if treegrid[y][i] >= height:\n",
    "            res.append(x - i)\n",
    "            break\n",
    "    if len(res) == 1:\n",
    "        res.append(x)\n",
    "\n",
    "    for j in range(y + 1, len(treegrid)):\n",
    "        if treegrid[j][x] >= height:\n",
    "            res.append(j - y)\n",
    "            break\n",
    "    if len(res) == 2:\n",
    "        res.append(len(treegrid) - y -1)\n",
    "\n",
    "    for j in range(y - 1, -1, -1):\n",
    "        if treegrid[j][x] >= height:\n",
    "            res.append(y - j)\n",
    "            break\n",
    "    if len(res) == 3:\n",
    "        res.append(y)\n",
    "\n",
    "    return math.prod(res)"
   ]
  },
  {
   "cell_type": "code",
   "execution_count": 16,
   "metadata": {},
   "outputs": [
    {
     "data": {
      "text/plain": [
       "440640"
      ]
     },
     "execution_count": 16,
     "metadata": {},
     "output_type": "execute_result"
    }
   ],
   "source": [
    "results = []\n",
    "for y in range(len(treegrid)):\n",
    "    for x in range(len(treegrid[0])):\n",
    "        results.append(get_scenic_score(x, y))\n",
    "\n",
    "max(results)"
   ]
  },
  {
   "cell_type": "code",
   "execution_count": null,
   "metadata": {},
   "outputs": [],
   "source": []
  }
 ],
 "metadata": {
  "kernelspec": {
   "display_name": "Python 3.9.13 ('.venv': venv)",
   "language": "python",
   "name": "python3"
  },
  "language_info": {
   "codemirror_mode": {
    "name": "ipython",
    "version": 3
   },
   "file_extension": ".py",
   "mimetype": "text/x-python",
   "name": "python",
   "nbconvert_exporter": "python",
   "pygments_lexer": "ipython3",
   "version": "3.9.13"
  },
  "orig_nbformat": 4,
  "vscode": {
   "interpreter": {
    "hash": "014edb13ea8bca09f2ae5715b81f4455f7f2c2c94fc70679b76fd18cfda98626"
   }
  }
 },
 "nbformat": 4,
 "nbformat_minor": 2
}
