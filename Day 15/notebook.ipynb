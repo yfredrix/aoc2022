{
 "cells": [
  {
   "cell_type": "code",
   "execution_count": 37,
   "metadata": {},
   "outputs": [],
   "source": [
    "import parse"
   ]
  },
  {
   "cell_type": "code",
   "execution_count": 38,
   "metadata": {},
   "outputs": [],
   "source": [
    "with open(\"input.txt\") as file:\n",
    "    sensor_lines = file.read().split(\"\\n\")\n",
    "    target_y = 2000000\n",
    "    max_y_grid = 4000000\n",
    "    max_x_grid = 4000000"
   ]
  },
  {
   "cell_type": "code",
   "execution_count": 25,
   "metadata": {},
   "outputs": [],
   "source": [
    "sensor_lines = \"\"\"Sensor at x=2, y=18: closest beacon is at x=-2, y=15\n",
    "Sensor at x=9, y=16: closest beacon is at x=10, y=16\n",
    "Sensor at x=13, y=2: closest beacon is at x=15, y=3\n",
    "Sensor at x=12, y=14: closest beacon is at x=10, y=16\n",
    "Sensor at x=10, y=20: closest beacon is at x=10, y=16\n",
    "Sensor at x=14, y=17: closest beacon is at x=10, y=16\n",
    "Sensor at x=8, y=7: closest beacon is at x=2, y=10\n",
    "Sensor at x=2, y=0: closest beacon is at x=2, y=10\n",
    "Sensor at x=0, y=11: closest beacon is at x=2, y=10\n",
    "Sensor at x=20, y=14: closest beacon is at x=25, y=17\n",
    "Sensor at x=17, y=20: closest beacon is at x=21, y=22\n",
    "Sensor at x=16, y=7: closest beacon is at x=15, y=3\n",
    "Sensor at x=14, y=3: closest beacon is at x=15, y=3\n",
    "Sensor at x=20, y=1: closest beacon is at x=15, y=3\"\"\".split(\"\\n\")\n",
    "target_y = 10\n",
    "max_y_grid= 20\n",
    "max_x_grid =20"
   ]
  },
  {
   "cell_type": "code",
   "execution_count": 39,
   "metadata": {},
   "outputs": [],
   "source": [
    "def get_distance(sensor, beacon):\n",
    "    distance = abs(sensor[0]- beacon[0]) + abs(sensor[1]-beacon[1])\n",
    "    return distance"
   ]
  },
  {
   "cell_type": "code",
   "execution_count": 40,
   "metadata": {},
   "outputs": [],
   "source": [
    "sensors_and_beacons = []\n",
    "beacons_on_target = set()\n",
    "for sensor_line in sensor_lines:\n",
    "    positions = parse.parse(\"Sensor at x={}, y={}: closest beacon is at x={}, y={}\", sensor_line)\n",
    "    sensor = (int(positions[0]), int(positions[1]))\n",
    "    beacon = (int(positions[2]), int(positions[3]))\n",
    "    if beacon[1] == target_y:\n",
    "        beacons_on_target.add(beacon)\n",
    "    distance = get_distance(sensor, beacon)\n",
    "    sensors_and_beacons.append([sensor, beacon, distance])"
   ]
  },
  {
   "cell_type": "code",
   "execution_count": 41,
   "metadata": {},
   "outputs": [],
   "source": [
    "import math\n",
    "from tqdm import tqdm"
   ]
  },
  {
   "cell_type": "code",
   "execution_count": 42,
   "metadata": {},
   "outputs": [
    {
     "name": "stderr",
     "output_type": "stream",
     "text": [
      "100%|██████████| 38/38 [00:01<00:00, 25.73it/s]\n"
     ]
    }
   ],
   "source": [
    "scanned_x = set()\n",
    "for sensor_beacon in tqdm(sensors_and_beacons):\n",
    "    sensor = sensor_beacon[0]\n",
    "    max_distance = sensor_beacon[2]\n",
    "    if abs(target_y - sensor[1]) <= max_distance:\n",
    "        remain_scan = max_distance - abs(target_y - sensor[1])\n",
    "        min_x = sensor[0] - remain_scan\n",
    "        max_x = sensor[0] + remain_scan\n",
    "        [scanned_x.add(x_scans) for x_scans in range(min_x, max_x +1)]"
   ]
  },
  {
   "cell_type": "code",
   "execution_count": 43,
   "metadata": {},
   "outputs": [
    {
     "data": {
      "text/plain": [
       "5166077"
      ]
     },
     "execution_count": 43,
     "metadata": {},
     "output_type": "execute_result"
    }
   ],
   "source": [
    "len(scanned_x) - len(beacons_on_target)"
   ]
  },
  {
   "cell_type": "code",
   "execution_count": 64,
   "metadata": {},
   "outputs": [],
   "source": [
    "def check_line(target_y):\n",
    "    potential_correct = set()\n",
    "    sensor_ranges = []\n",
    "    complete_ranges = []\n",
    "    for sensor_beacon in sensors_and_beacons:\n",
    "        sensor = sensor_beacon[0]\n",
    "        max_distance = sensor_beacon[2]\n",
    "        if abs(target_y - sensor[1]) <= max_distance:\n",
    "            remain_scan = max_distance - abs(target_y - sensor[1])\n",
    "            min_x = max(sensor[0] - remain_scan,  0)\n",
    "            max_x = min(sensor[0] + remain_scan, max_x_grid)\n",
    "            sensor_ranges.append([min_x, max_x])\n",
    "    sorted_sensors = sorted(sensor_ranges, key=lambda x: x[0])\n",
    "    ranges = []\n",
    "    i = 0\n",
    "    for sensor in sorted_sensors:\n",
    "        if len(ranges) == 0:\n",
    "            ranges.append(sensor)\n",
    "            continue\n",
    "        if sensor[0] >= ranges[i][0] and sensor[0] <= ranges[i][1]:\n",
    "            if sensor[1] >= ranges[i][1]:\n",
    "                ranges[i][1] = sensor[1]\n",
    "        elif sensor[1] >= ranges[i][0] and sensor[1] <= ranges[i][1]:\n",
    "            if sensor[0] <= ranges[i][0]:\n",
    "                ranges[i][0] = sensor[0]\n",
    "        else:\n",
    "            ranges.append(sensor)\n",
    "            i+=1\n",
    "    if len(ranges) > 1:\n",
    "        print(ranges)\n",
    "        print(target_y)\n",
    "    return potential_correct"
   ]
  },
  {
   "cell_type": "code",
   "execution_count": 65,
   "metadata": {},
   "outputs": [
    {
     "name": "stderr",
     "output_type": "stream",
     "text": [
      " 68%|██████▊   | 2709354/4000001 [01:23<00:38, 33314.57it/s]"
     ]
    },
    {
     "name": "stdout",
     "output_type": "stream",
     "text": [
      "[[0, 3267800], [3267802, 4000000]]\n",
      "2703981\n"
     ]
    },
    {
     "name": "stderr",
     "output_type": "stream",
     "text": [
      "100%|██████████| 4000001/4000001 [02:04<00:00, 32150.04it/s]\n"
     ]
    }
   ],
   "source": [
    "potential_correct = set()\n",
    "for target_y in tqdm(range(max_y_grid+1)):\n",
    "    potential_correct.union(check_line(target_y))"
   ]
  },
  {
   "cell_type": "code",
   "execution_count": 60,
   "metadata": {},
   "outputs": [
    {
     "data": {
      "text/plain": [
       "0"
      ]
     },
     "execution_count": 60,
     "metadata": {},
     "output_type": "execute_result"
    }
   ],
   "source": [
    "len(potential_correct)"
   ]
  },
  {
   "cell_type": "code",
   "execution_count": 66,
   "metadata": {},
   "outputs": [
    {
     "data": {
      "text/plain": [
       "13071206703981"
      ]
     },
     "execution_count": 66,
     "metadata": {},
     "output_type": "execute_result"
    }
   ],
   "source": [
    "3267801 * 4000000 + 2703981"
   ]
  },
  {
   "cell_type": "code",
   "execution_count": null,
   "metadata": {},
   "outputs": [],
   "source": []
  }
 ],
 "metadata": {
  "kernelspec": {
   "display_name": ".venv",
   "language": "python",
   "name": "python3"
  },
  "language_info": {
   "codemirror_mode": {
    "name": "ipython",
    "version": 3
   },
   "file_extension": ".py",
   "mimetype": "text/x-python",
   "name": "python",
   "nbconvert_exporter": "python",
   "pygments_lexer": "ipython3",
   "version": "3.10.9"
  },
  "orig_nbformat": 4,
  "vscode": {
   "interpreter": {
    "hash": "014edb13ea8bca09f2ae5715b81f4455f7f2c2c94fc70679b76fd18cfda98626"
   }
  }
 },
 "nbformat": 4,
 "nbformat_minor": 2
}
